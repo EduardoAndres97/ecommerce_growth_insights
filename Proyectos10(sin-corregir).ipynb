{
 "cells": [
  {
   "cell_type": "markdown",
   "metadata": {},
   "source": [
    "# Importar librerias"
   ]
  },
  {
   "cell_type": "code",
   "execution_count": 1,
   "metadata": {
    "trusted": false
   },
   "outputs": [],
   "source": [
    "#importar librerias\n",
    "import pandas as pd\n",
    "import numpy as np\n",
    "from matplotlib import pyplot as plt \n",
    "import datetime as dt\n",
    "import scipy.stats as stats \n",
    "import seaborn as sns"
   ]
  },
  {
   "cell_type": "markdown",
   "metadata": {},
   "source": [
    "# Cargar los datos"
   ]
  },
  {
   "cell_type": "code",
   "execution_count": 2,
   "metadata": {
    "trusted": false
   },
   "outputs": [],
   "source": [
    "#Cargar los datos\n",
    "hypotheses = pd.read_csv(\"/datasets/hypotheses_us.csv\", sep=\";\") #especificamos \";\" como separador\n",
    "orders = pd.read_csv(\"/datasets/orders_us.csv\")\n",
    "visits = pd.read_csv(\"/datasets/visits_us.csv\")"
   ]
  },
  {
   "cell_type": "markdown",
   "metadata": {},
   "source": [
    "# Visualizar y procesar los datos "
   ]
  },
  {
   "cell_type": "markdown",
   "metadata": {},
   "source": [
    "# hypotheses "
   ]
  },
  {
   "cell_type": "code",
   "execution_count": 3,
   "metadata": {
    "scrolled": true,
    "trusted": false
   },
   "outputs": [
    {
     "name": "stdout",
     "output_type": "stream",
     "text": [
      "<class 'pandas.core.frame.DataFrame'>\n",
      "RangeIndex: 9 entries, 0 to 8\n",
      "Data columns (total 5 columns):\n",
      " #   Column      Non-Null Count  Dtype \n",
      "---  ------      --------------  ----- \n",
      " 0   Hypothesis  9 non-null      object\n",
      " 1   Reach       9 non-null      int64 \n",
      " 2   Impact      9 non-null      int64 \n",
      " 3   Confidence  9 non-null      int64 \n",
      " 4   Effort      9 non-null      int64 \n",
      "dtypes: int64(4), object(1)\n",
      "memory usage: 488.0+ bytes\n"
     ]
    }
   ],
   "source": [
    "#visualizar el df\n",
    "hypotheses.info()"
   ]
  },
  {
   "cell_type": "code",
   "execution_count": 4,
   "metadata": {
    "trusted": false
   },
   "outputs": [
    {
     "data": {
      "text/plain": [
       "Index(['hypothesis', 'reach', 'impact', 'confidence', 'effort'], dtype='object')"
      ]
     },
     "execution_count": 4,
     "metadata": {},
     "output_type": "execute_result"
    }
   ],
   "source": [
    "#Procesaremos las columnas y las convertiremos a minuscula en primera instancia\n",
    "hypotheses.columns = hypotheses.columns.str.lower()\n",
    "hypotheses.columns"
   ]
  },
  {
   "cell_type": "markdown",
   "metadata": {},
   "source": [
    "Solamente tuvimos que especificar el separador a \";\" y transformar las mayusculas a minusculas para dejar listo el df para su uso."
   ]
  },
  {
   "cell_type": "markdown",
   "metadata": {},
   "source": [
    "# orders"
   ]
  },
  {
   "cell_type": "code",
   "execution_count": 5,
   "metadata": {
    "scrolled": true,
    "trusted": false
   },
   "outputs": [
    {
     "name": "stdout",
     "output_type": "stream",
     "text": [
      "<class 'pandas.core.frame.DataFrame'>\n",
      "RangeIndex: 1197 entries, 0 to 1196\n",
      "Data columns (total 5 columns):\n",
      " #   Column         Non-Null Count  Dtype  \n",
      "---  ------         --------------  -----  \n",
      " 0   transactionId  1197 non-null   int64  \n",
      " 1   visitorId      1197 non-null   int64  \n",
      " 2   date           1197 non-null   object \n",
      " 3   revenue        1197 non-null   float64\n",
      " 4   group          1197 non-null   object \n",
      "dtypes: float64(1), int64(2), object(2)\n",
      "memory usage: 46.9+ KB\n"
     ]
    }
   ],
   "source": [
    "orders.info()"
   ]
  },
  {
   "cell_type": "code",
   "execution_count": 6,
   "metadata": {
    "trusted": false
   },
   "outputs": [
    {
     "name": "stdout",
     "output_type": "stream",
     "text": [
      "Index(['transaction_id', 'visitor_id', 'date', 'revenue', 'group'], dtype='object')\n"
     ]
    }
   ],
   "source": [
    "#cambiamos el nombre de las columnas que no cumplen con el metodo \"snake_case\"\n",
    "new_columns ={\n",
    "    \"transactionId\":\"transaction_id\",\n",
    "    \"visitorId\":\"visitor_id\"\n",
    "    }\n",
    "orders.rename(columns = new_columns, inplace = True)\n",
    "print(orders.columns)"
   ]
  },
  {
   "cell_type": "code",
   "execution_count": 7,
   "metadata": {
    "trusted": false
   },
   "outputs": [],
   "source": [
    "#Cambiamos el tipo de datos de las columnas, en este caso a las fechas pasarle a datatime\n",
    "#orders[\"date\"] = pd.to_datetime(orders[\"date\"])\n",
    "#Le aplicaremos un trato especial en este caso con lambda le aplicaremos \n",
    "orders['date'] = orders['date'].map(lambda x: dt.datetime.strptime(x, '%Y-%m-%d'))"
   ]
  },
  {
   "cell_type": "code",
   "execution_count": 8,
   "metadata": {
    "trusted": false
   },
   "outputs": [
    {
     "name": "stdout",
     "output_type": "stream",
     "text": [
      "<class 'pandas.core.frame.DataFrame'>\n",
      "RangeIndex: 1197 entries, 0 to 1196\n",
      "Data columns (total 5 columns):\n",
      " #   Column          Non-Null Count  Dtype         \n",
      "---  ------          --------------  -----         \n",
      " 0   transaction_id  1197 non-null   int64         \n",
      " 1   visitor_id      1197 non-null   int64         \n",
      " 2   date            1197 non-null   datetime64[ns]\n",
      " 3   revenue         1197 non-null   float64       \n",
      " 4   group           1197 non-null   object        \n",
      "dtypes: datetime64[ns](1), float64(1), int64(2), object(1)\n",
      "memory usage: 46.9+ KB\n"
     ]
    }
   ],
   "source": [
    "orders.info()"
   ]
  },
  {
   "cell_type": "code",
   "execution_count": 9,
   "metadata": {
    "scrolled": true,
    "trusted": false
   },
   "outputs": [
    {
     "data": {
      "text/plain": [
       "0"
      ]
     },
     "execution_count": 9,
     "metadata": {},
     "output_type": "execute_result"
    }
   ],
   "source": [
    "#verificamos si hay datos duplicados\n",
    "orders.duplicated().sum()"
   ]
  },
  {
   "cell_type": "markdown",
   "metadata": {},
   "source": [
    "Hemos podido procesar los datos de este df, como corregir las columnas con fechas a datatime, cambiar nombres para que se ajusten al metodo \"snake_case\", tambien pudimos verificar que no hay datos ausentes ni duplicados explicitos."
   ]
  },
  {
   "cell_type": "markdown",
   "metadata": {},
   "source": [
    "# visits"
   ]
  },
  {
   "cell_type": "code",
   "execution_count": 10,
   "metadata": {
    "trusted": false
   },
   "outputs": [
    {
     "name": "stdout",
     "output_type": "stream",
     "text": [
      "<class 'pandas.core.frame.DataFrame'>\n",
      "RangeIndex: 62 entries, 0 to 61\n",
      "Data columns (total 3 columns):\n",
      " #   Column  Non-Null Count  Dtype \n",
      "---  ------  --------------  ----- \n",
      " 0   date    62 non-null     object\n",
      " 1   group   62 non-null     object\n",
      " 2   visits  62 non-null     int64 \n",
      "dtypes: int64(1), object(2)\n",
      "memory usage: 1.6+ KB\n"
     ]
    }
   ],
   "source": [
    "#Vemos la informacion de df_visits\n",
    "visits.info()"
   ]
  },
  {
   "cell_type": "code",
   "execution_count": 11,
   "metadata": {
    "trusted": false
   },
   "outputs": [],
   "source": [
    "#Cambiamos el tipo de datos de la columna con fechas a datatime\n",
    "#df_visits[\"date\"] = pd.to_datetime(df_visits[\"date\"], format= \"%Y-%m-%d\")\n",
    "visits['date'] = visits['date'].map(lambda x: dt.datetime.strptime(x, '%Y-%m-%d'))"
   ]
  },
  {
   "cell_type": "code",
   "execution_count": 12,
   "metadata": {
    "trusted": false
   },
   "outputs": [
    {
     "data": {
      "text/plain": [
       "0"
      ]
     },
     "execution_count": 12,
     "metadata": {},
     "output_type": "execute_result"
    }
   ],
   "source": [
    "visits.duplicated().sum()"
   ]
  },
  {
   "cell_type": "markdown",
   "metadata": {},
   "source": [
    "Procesamos de la siguente manera: solamente cambiamos las fechas a datatime y verificamos que no hayan duplicados."
   ]
  },
  {
   "cell_type": "markdown",
   "metadata": {},
   "source": [
    "# Priorizar hipótesis"
   ]
  },
  {
   "cell_type": "markdown",
   "metadata": {},
   "source": [
    "### Aplicar el framework ICE para priorizar hipótesis. Las ordenaremos en orden descendente de prioridad."
   ]
  },
  {
   "cell_type": "code",
   "execution_count": 13,
   "metadata": {
    "trusted": false
   },
   "outputs": [
    {
     "data": {
      "text/html": [
       "<div>\n",
       "<style scoped>\n",
       "    .dataframe tbody tr th:only-of-type {\n",
       "        vertical-align: middle;\n",
       "    }\n",
       "\n",
       "    .dataframe tbody tr th {\n",
       "        vertical-align: top;\n",
       "    }\n",
       "\n",
       "    .dataframe thead th {\n",
       "        text-align: right;\n",
       "    }\n",
       "</style>\n",
       "<table border=\"1\" class=\"dataframe\">\n",
       "  <thead>\n",
       "    <tr style=\"text-align: right;\">\n",
       "      <th></th>\n",
       "      <th>hypothesis</th>\n",
       "      <th>reach</th>\n",
       "      <th>impact</th>\n",
       "      <th>confidence</th>\n",
       "      <th>effort</th>\n",
       "    </tr>\n",
       "  </thead>\n",
       "  <tbody>\n",
       "    <tr>\n",
       "      <th>0</th>\n",
       "      <td>Add two new channels for attracting traffic. T...</td>\n",
       "      <td>3</td>\n",
       "      <td>10</td>\n",
       "      <td>8</td>\n",
       "      <td>6</td>\n",
       "    </tr>\n",
       "    <tr>\n",
       "      <th>1</th>\n",
       "      <td>Launch your own delivery service. This will sh...</td>\n",
       "      <td>2</td>\n",
       "      <td>5</td>\n",
       "      <td>4</td>\n",
       "      <td>10</td>\n",
       "    </tr>\n",
       "    <tr>\n",
       "      <th>2</th>\n",
       "      <td>Add product recommendation blocks to the store...</td>\n",
       "      <td>8</td>\n",
       "      <td>3</td>\n",
       "      <td>7</td>\n",
       "      <td>3</td>\n",
       "    </tr>\n",
       "    <tr>\n",
       "      <th>3</th>\n",
       "      <td>Change the category structure. This will incre...</td>\n",
       "      <td>8</td>\n",
       "      <td>3</td>\n",
       "      <td>3</td>\n",
       "      <td>8</td>\n",
       "    </tr>\n",
       "    <tr>\n",
       "      <th>4</th>\n",
       "      <td>Change the background color on the main page. ...</td>\n",
       "      <td>3</td>\n",
       "      <td>1</td>\n",
       "      <td>1</td>\n",
       "      <td>1</td>\n",
       "    </tr>\n",
       "    <tr>\n",
       "      <th>5</th>\n",
       "      <td>Add a customer review page. This will increase...</td>\n",
       "      <td>3</td>\n",
       "      <td>2</td>\n",
       "      <td>2</td>\n",
       "      <td>3</td>\n",
       "    </tr>\n",
       "    <tr>\n",
       "      <th>6</th>\n",
       "      <td>Show banners with current offers and sales on ...</td>\n",
       "      <td>5</td>\n",
       "      <td>3</td>\n",
       "      <td>8</td>\n",
       "      <td>3</td>\n",
       "    </tr>\n",
       "    <tr>\n",
       "      <th>7</th>\n",
       "      <td>Add a subscription form to all the main pages....</td>\n",
       "      <td>10</td>\n",
       "      <td>7</td>\n",
       "      <td>8</td>\n",
       "      <td>5</td>\n",
       "    </tr>\n",
       "    <tr>\n",
       "      <th>8</th>\n",
       "      <td>Launch a promotion that gives users discounts ...</td>\n",
       "      <td>1</td>\n",
       "      <td>9</td>\n",
       "      <td>9</td>\n",
       "      <td>5</td>\n",
       "    </tr>\n",
       "  </tbody>\n",
       "</table>\n",
       "</div>"
      ],
      "text/plain": [
       "                                          hypothesis  reach  impact  \\\n",
       "0  Add two new channels for attracting traffic. T...      3      10   \n",
       "1  Launch your own delivery service. This will sh...      2       5   \n",
       "2  Add product recommendation blocks to the store...      8       3   \n",
       "3  Change the category structure. This will incre...      8       3   \n",
       "4  Change the background color on the main page. ...      3       1   \n",
       "5  Add a customer review page. This will increase...      3       2   \n",
       "6  Show banners with current offers and sales on ...      5       3   \n",
       "7  Add a subscription form to all the main pages....     10       7   \n",
       "8  Launch a promotion that gives users discounts ...      1       9   \n",
       "\n",
       "   confidence  effort  \n",
       "0           8       6  \n",
       "1           4      10  \n",
       "2           7       3  \n",
       "3           3       8  \n",
       "4           1       1  \n",
       "5           2       3  \n",
       "6           8       3  \n",
       "7           8       5  \n",
       "8           9       5  "
      ]
     },
     "execution_count": 13,
     "metadata": {},
     "output_type": "execute_result"
    }
   ],
   "source": [
    "#Primero que nada visualizaremos el dataframe con las hipotesis \n",
    "hypotheses"
   ]
  },
  {
   "cell_type": "code",
   "execution_count": 14,
   "metadata": {
    "scrolled": true,
    "trusted": false
   },
   "outputs": [
    {
     "name": "stdout",
     "output_type": "stream",
     "text": [
      "                                          hypothesis        ICE\n",
      "8  Launch a promotion that gives users discounts ...  16.200000\n",
      "0  Add two new channels for attracting traffic. T...  13.333333\n",
      "7  Add a subscription form to all the main pages....  11.200000\n",
      "6  Show banners with current offers and sales on ...   8.000000\n",
      "2  Add product recommendation blocks to the store...   7.000000\n",
      "1  Launch your own delivery service. This will sh...   2.000000\n",
      "5  Add a customer review page. This will increase...   1.333333\n",
      "3  Change the category structure. This will incre...   1.125000\n",
      "4  Change the background color on the main page. ...   1.000000\n"
     ]
    }
   ],
   "source": [
    "#aplicamos el framework ICE para ver cual hipotesis priorizar y creamos una nueva columna para almacenar el resultado\n",
    "hypotheses[\"ICE\"] = (hypotheses[\"impact\"] * hypotheses[\"confidence\"]) / hypotheses[\"effort\"]\n",
    "\n",
    "print(hypotheses[[\"hypothesis\",\"ICE\"]].sort_values(by='ICE', ascending=False))"
   ]
  },
  {
   "cell_type": "code",
   "execution_count": 15,
   "metadata": {
    "scrolled": true,
    "trusted": false
   },
   "outputs": [
    {
     "data": {
      "image/png": "[encoded data removed]",
      "text/plain": [
       "<Figure size 640x480 with 1 Axes>"
      ]
     },
     "metadata": {},
     "output_type": "display_data"
    }
   ],
   "source": [
    "#Ahora graficaremos el resultado de ICE\n",
    "hypotheses[[\"hypothesis\",\"ICE\"]].sort_values(by='ICE', ascending=False).plot(kind=\"bar\",\n",
    "                                                                                  title=\"ICE\",\n",
    "                                                                                  ylabel=\"Resultados de los framework\",\n",
    "                                                                                  xlabel=\"Indices de las hipotesis\",\n",
    "                                                                                  legend=False\n",
    "                                                                                  )\n",
    "plt.show()"
   ]
  },
  {
   "cell_type": "markdown",
   "metadata": {},
   "source": [
    "En primera instancia los resultados de ICE nos dieron:\n",
    "* 1er lugar la hipotesis de indice 8 con 16.2\n",
    "* 2do lugar la hipotesis de indice 0 con 13.3\n",
    "* 3er lugar indice 7 con 11.2\n",
    "* 4ta lugar indice 6 con 8\n",
    "* 5ta lugar indice 2 con 7\n",
    "Esas son las hipotesis con valores ICE mas altas, las otras no las considerare ya que son muy bajos los valores."
   ]
  },
  {
   "cell_type": "markdown",
   "metadata": {},
   "source": [
    "### Aplicar el framework RICE para priorizar hipótesis. Ordenarlas en orden descendente de prioridad."
   ]
  },
  {
   "cell_type": "code",
   "execution_count": 16,
   "metadata": {
    "scrolled": true,
    "trusted": false
   },
   "outputs": [
    {
     "name": "stdout",
     "output_type": "stream",
     "text": [
      "                                          hypothesis   RICE\n",
      "7  Add a subscription form to all the main pages....  112.0\n",
      "2  Add product recommendation blocks to the store...   56.0\n",
      "0  Add two new channels for attracting traffic. T...   40.0\n",
      "6  Show banners with current offers and sales on ...   40.0\n",
      "8  Launch a promotion that gives users discounts ...   16.2\n",
      "3  Change the category structure. This will incre...    9.0\n",
      "1  Launch your own delivery service. This will sh...    4.0\n",
      "5  Add a customer review page. This will increase...    4.0\n",
      "4  Change the background color on the main page. ...    3.0\n"
     ]
    }
   ],
   "source": [
    "#aplicamos el framework RICE para ver cual hipotesis priorizar y creamos una nueva columna para almacenar el resultado\n",
    "hypotheses[\"RICE\"] = (hypotheses[\"reach\"] * hypotheses[\"impact\"] * hypotheses[\"confidence\"])/ hypotheses[\"effort\"]\n",
    "\n",
    "print(hypotheses[[\"hypothesis\",\"RICE\"]].sort_values(by='RICE', ascending=False))"
   ]
  },
  {
   "cell_type": "code",
   "execution_count": 17,
   "metadata": {
    "trusted": false
   },
   "outputs": [
    {
     "data": {
      "image/png": "[encoded data removed]",
      "text/plain": [
       "<Figure size 640x480 with 1 Axes>"
      ]
     },
     "metadata": {},
     "output_type": "display_data"
    }
   ],
   "source": [
    "#Ahora graficaremos el resultado de RICE\n",
    "hypotheses[[\"hypothesis\",\"RICE\"]].sort_values(by='RICE', ascending=False).plot(kind=\"bar\",\n",
    "                                                                                  title=\"RICE\",\n",
    "                                                                                  ylabel=\"Resultados de los framework\",\n",
    "                                                                                  xlabel=\"Indices de las hipotesis\",\n",
    "                                                                                  legend=False\n",
    "                                                                                  )\n",
    "plt.show()"
   ]
  },
  {
   "cell_type": "markdown",
   "metadata": {},
   "source": [
    "Podemos ver como varian los resultados de RICE con los de ICE.\n",
    "\n",
    "En primera instancia los resultados de RICE nos dieron:\n",
    "* 1er lugar la hipotesis de indice 7 con 112\n",
    "* 2do lugar la hipotesis de indice 2 con 56\n",
    "* 3er lugar indice 0 con 40\n",
    "* 4ta lugar indice 6 con 40\n",
    "* 5ta lugar indice 8 con 16.2\n",
    "Esas son las hipotesis con valores RICE mas altas, las otras no las considerare ya que son muy bajos los valores."
   ]
  },
  {
   "cell_type": "markdown",
   "metadata": {},
   "source": [
    "### Mostrar cómo cambia la priorización de hipótesis cuando utilizas RICE en lugar de ICE. Proporcionar una explicación de los cambios."
   ]
  },
  {
   "cell_type": "code",
   "execution_count": 18,
   "metadata": {
    "trusted": false
   },
   "outputs": [
    {
     "data": {
      "image/png": "[encoded data removed]",
      "text/plain": [
       "<Figure size 640x480 with 1 Axes>"
      ]
     },
     "metadata": {},
     "output_type": "display_data"
    }
   ],
   "source": [
    "hypotheses[[\"hypothesis\",\"ICE\",\"RICE\"]].sort_values(by='RICE', ascending=False).plot(kind=\"bar\",\n",
    "                                                                                       title=\"RICE vs ICE\",\n",
    "                                                                                       ylabel=\"Resultados de los framework\",\n",
    "                                                                                       xlabel=\"Indices de las hipotesis\" \n",
    "                                                                                       )\n",
    "\n",
    "plt.show()"
   ]
  },
  {
   "cell_type": "markdown",
   "metadata": {},
   "source": [
    "El ICE y el RICE son bastante similares en su base, pero tienen una gran diferencia y en sus nombres se puede dilucidar. El ICE = Impact, Confidence, Ease. nos da el resultado de la interaccion entre estos parametros, pero el RICE incluye el parámetro \"Reach\" (alcance), que en este caso la hipotesis de indice 7 tiene un alcance de 10 puntos(el maximo en esta escala). las variantes entre el ICE y el RICE se deben basicamente por el parámetro Reach."
   ]
  },
  {
   "cell_type": "markdown",
   "metadata": {},
   "source": [
    "# Análisis del test A/B"
   ]
  },
  {
   "cell_type": "markdown",
   "metadata": {},
   "source": [
    "## Analisis del test A/B"
   ]
  },
  {
   "cell_type": "markdown",
   "metadata": {},
   "source": [
    "### Representa gráficamente el ingreso acumulado por grupo. Haz conclusiones y conjeturas."
   ]
  },
  {
   "cell_type": "markdown",
   "metadata": {},
   "source": [
    "Para llevar a cabo esto y trazar los graficos, tenemos que recopilar datos acumulados. Vamos a declalar un DataFrame llamado \"cumulativeData\" con las columnas necesarias, sacadas de los DataFrames que tenemos \"orders\" y \"visits\". Sera un proceso con varios pasos en el cual usaremos variables de apoyo como por ejemplo \"datesGroups\""
   ]
  },
  {
   "cell_type": "code",
   "execution_count": 19,
   "metadata": {
    "trusted": false
   },
   "outputs": [],
   "source": [
    "#Aqui crearemos un DataFrame llamado datesGroups con parejas de valores únicos de 'date' y 'group' de la tabla orders\n",
    "#Elimiaremos los valores duplicados con el método drop_duplicates().\n",
    "#Con esto facilitaremos acumular los datos por dia\n",
    "datesGroups = orders[['date', 'group']].drop_duplicates()"
   ]
  },
  {
   "cell_type": "markdown",
   "metadata": {},
   "source": [
    "Declaramos la variable ordersAggregated para almacenar:\n",
    "\n",
    "* la fecha;\n",
    "* el grupo de la prueba A/B;\n",
    "* el número de pedidos distintos para el grupo de prueba hasta la fecha especificada incluida;\n",
    "* el número de usuarios distintos en el grupo de prueba que realizan al menos un pedido hasta la fecha especificada incluida;\n",
    "* los ingresos totales de pedidos en el grupo de prueba hasta la fecha especificada incluida."
   ]
  },
  {
   "cell_type": "code",
   "execution_count": 20,
   "metadata": {
    "trusted": false
   },
   "outputs": [],
   "source": [
    "#Declaramos la variable \"ordersAggregated\"\n",
    "ordersAggregated = datesGroups.apply(lambda x: orders[\n",
    "        np.logical_and( #aplicamos \"np.logical_and\" que es útil para elegir un subconjunto de filas de una tabla que coincida con varias condiciones. \n",
    "            orders['date'] <= x['date'], orders['group'] == x['group'])].agg({ #obtendremos las filas de la tabla orders donde la fecha es menor o igual que la fecha del elemento datesGroups y el grupo de prueba es el mismo que en datesGroups\n",
    "            'date': 'max',\n",
    "            'group': 'max',\n",
    "            'transaction_id': pd.Series.nunique,\n",
    "            'visitor_id': pd.Series.nunique,\n",
    "            'revenue': 'sum',}),\n",
    "    axis=1, #Aqui el axis 1 hace que el codigo se aplique a las filas\n",
    ").sort_values(by=['date', 'group']) #ordenamos por las columnas \"date\" y \"group\" en orden ascendente"
   ]
  },
  {
   "cell_type": "markdown",
   "metadata": {},
   "source": [
    "En la siguente celda declararemos la variable \"visitorsAggregated\" para almacenar:\n",
    "\n",
    "* la fecha;\n",
    "* el grupo de la prueba A/B;\n",
    "* el número de pedidos distintos para el grupo de prueba hasta la fecha especificada incluida."
   ]
  },
  {
   "cell_type": "code",
   "execution_count": 21,
   "metadata": {
    "trusted": false
   },
   "outputs": [],
   "source": [
    "#Ahora declararemos la variable \"visitorsAggregated\" (de una forma muy similar a \"ordersAggregated\")\n",
    "visitorsAggregated = datesGroups.apply(\n",
    "    lambda x: visits[np.logical_and(visits['date'] <= x['date'], visits['group'] == x['group'])\n",
    "    ].agg({'date': 'max', 'group': 'max', 'visits': 'sum'}),\n",
    "    axis=1,\n",
    ").sort_values(by=['date', 'group'])"
   ]
  },
  {
   "cell_type": "markdown",
   "metadata": {},
   "source": [
    "Ahora unimos ambas tablas \"ordersAggregated\" y \"visitorsAggregated\" en la variable \"cumulativeData\" por las columnas 'date' y 'group' con el método merge()."
   ]
  },
  {
   "cell_type": "code",
   "execution_count": 22,
   "metadata": {
    "trusted": false
   },
   "outputs": [],
   "source": [
    "#Definimos \"cumulativeData\" \n",
    "cumulativeData = ordersAggregated.merge(visitorsAggregated, left_on=['date', 'group'], right_on=['date', 'group'])"
   ]
  },
  {
   "cell_type": "code",
   "execution_count": 23,
   "metadata": {
    "trusted": false
   },
   "outputs": [
    {
     "name": "stdout",
     "output_type": "stream",
     "text": [
      "        date group  transaction_id  visitor_id  revenue  visits\n",
      "0 2019-08-01     A              24          20   2356.8     719\n",
      "1 2019-08-01     B              21          20   1620.0     713\n",
      "2 2019-08-02     A              44          38   3860.3    1338\n",
      "3 2019-08-02     B              45          43   4243.8    1294\n",
      "4 2019-08-03     A              68          62   5675.5    1845\n"
     ]
    }
   ],
   "source": [
    "#vizualizamos los datos\n",
    "print(cumulativeData.head())"
   ]
  },
  {
   "cell_type": "code",
   "execution_count": 24,
   "metadata": {
    "trusted": false
   },
   "outputs": [
    {
     "name": "stdout",
     "output_type": "stream",
     "text": [
      "        date group  orders  buyers  revenue  visitors\n",
      "0 2019-08-01     A      24      20   2356.8       719\n",
      "1 2019-08-01     B      21      20   1620.0       713\n",
      "2 2019-08-02     A      44      38   3860.3      1338\n",
      "3 2019-08-02     B      45      43   4243.8      1294\n",
      "4 2019-08-03     A      68      62   5675.5      1845\n"
     ]
    }
   ],
   "source": [
    "#Cambiamos el nombre de las columnas resultantes para que sean mas descriptivas\n",
    "cumulativeData.columns = [\n",
    "    'date',\n",
    "    'group',\n",
    "    'orders',\n",
    "    'buyers',\n",
    "    'revenue',\n",
    "    'visitors',\n",
    "]\n",
    "print(cumulativeData.head(5))"
   ]
  },
  {
   "cell_type": "markdown",
   "metadata": {},
   "source": [
    "Finalizando el procedimiento para obtener un DataFrame con los datos acumulados por dia podremos responder a la pregunta en cuestion:\n",
    "\"Representa gráficamente el ingreso acumulado por grupo. Haz conclusiones y conjeturas.\""
   ]
  },
  {
   "cell_type": "code",
   "execution_count": 25,
   "metadata": {
    "trusted": false
   },
   "outputs": [],
   "source": [
    "#Para representar esta pregunta graficamente separaremos en una variable los datos necesarios de cada grupo\n",
    "#Aqui los del grupo A:\n",
    "cumulativeRevenueA = cumulativeData[cumulativeData['group'] == 'A'][['date', 'revenue', 'orders']]\n",
    "#Aqui los del grupo B:\n",
    "cumulativeRevenueB = cumulativeData[cumulativeData['group'] == 'B'][['date', 'revenue', 'orders']]                 "
   ]
  },
  {
   "cell_type": "code",
   "execution_count": 26,
   "metadata": {
    "trusted": false
   },
   "outputs": [
    {
     "data": {
      "image/png": "[encoded data removed]",
      "text/plain": [
       "<Figure size 640x480 with 1 Axes>"
      ]
     },
     "metadata": {},
     "output_type": "display_data"
    }
   ],
   "source": [
    "#Ahora crearemos el grafico para ver el ingreso acumulado por grupo\n",
    "plt.plot(cumulativeRevenueA['date'], cumulativeRevenueA['revenue'], label='A')\n",
    "plt.plot(cumulativeRevenueB['date'], cumulativeRevenueB['revenue'], label='B')\n",
    "plt.title(\"Ingreso acumulado por grupo\")\n",
    "plt.ylabel(\"Ingreso acumulado\")\n",
    "plt.xlabel(\"Fecha por días\")\n",
    "plt.legend()\n",
    "\n",
    "plt.show()"
   ]
  },
  {
   "cell_type": "markdown",
   "metadata": {},
   "source": [
    "Conclusiones: Podemos ver que el grupo B a llevado la delantera en cuanto a ingresos acumulados y con los días se ha incrementado la diferencia. Por otro lado tambien es bueno ver como el grupo A tambien aumenta sus ingresos acumulados a diario, es sin duda bueno para la empresa. Este grafico de ingresos acumulados nos podria dar indicios de que el grupo B podria ser mejor, pero aun nos faltan varias metricas y datos que consultar para esto."
   ]
  },
  {
   "cell_type": "markdown",
   "metadata": {},
   "source": [
    "### Representa gráficamente el tamaño de pedido promedio acumulado por grupo. Haz conclusiones y conjeturas."
   ]
  },
  {
   "cell_type": "markdown",
   "metadata": {},
   "source": [
    "Con los datos que obtuvimos podemos ver rapidamente el grafico para ver el tamaño de pedido promedio acumulado por grupo. Usando las variables que creamos \"cumulativeRevenueA\" y \"cumulativeRevenueB\" con sus columnas y las operaciones respectivas."
   ]
  },
  {
   "cell_type": "code",
   "execution_count": 27,
   "metadata": {
    "trusted": false
   },
   "outputs": [
    {
     "data": {
      "image/png": "[encoded data removed]",
      "text/plain": [
       "<Figure size 640x480 with 1 Axes>"
      ]
     },
     "metadata": {},
     "output_type": "display_data"
    }
   ],
   "source": [
    "#Creamos el grafico\n",
    "#Graficamos el grupo A\n",
    "plt.plot(cumulativeRevenueA['date'],cumulativeRevenueA['revenue'] / cumulativeRevenueA['orders'],label='A',)\n",
    "#Graficamos el grupo B\n",
    "plt.plot(cumulativeRevenueB['date'],cumulativeRevenueB['revenue'] / cumulativeRevenueB['orders'],label='B',)\n",
    "plt.title(\"Tamaño de pedido promedio acumulado por grupo\")\n",
    "plt.xlabel(\"Fecha por día\")\n",
    "plt.ylabel(\"Tamaño de pedido acumulado\")\n",
    "plt.legend()\n",
    "\n",
    "plt.show()"
   ]
  },
  {
   "cell_type": "markdown",
   "metadata": {},
   "source": [
    "Conclusiones: Podemos ver que el tamaño de pedido acumulado en promedio del grupo B tambien es mayor que el del grupo A. Al principio fue flucuando entre el grupo A y el grupo B pero desde mitad de mes aproximadamente el grupo B dio un salto considerable y se estabilizo con tendencia a la baja, en cambio el grupo A no dio este salto pero se estabilizo con tendencia a la subida. A pesar de esto al grupo B se le ve considerablemente mas arriba. Lo que nos podria sugerir esto es que el tamaño de pedido prmoedio acumulado del grupo B es considerablemente mejor."
   ]
  },
  {
   "cell_type": "markdown",
   "metadata": {},
   "source": [
    "### Representa gráficamente la diferencia relativa en el tamaño de pedido promedio acumulado para el grupo B en comparación con el grupo A. Haz conclusiones y conjeturas."
   ]
  },
  {
   "cell_type": "markdown",
   "metadata": {},
   "source": [
    "Aqui uniremos con merge() las variables \"cumulativeRevenueA\" y \"cumulativeRevenueB\" para que la tabla resultante contenga las columnas 'date', 'revenueA', 'revenueB', 'ordersA', 'ordersB'. La guardaremos en la variable \"mergedCumulativeRevenue\"."
   ]
  },
  {
   "cell_type": "code",
   "execution_count": 28,
   "metadata": {
    "trusted": false
   },
   "outputs": [],
   "source": [
    "#Aplicamos el metodo merge() como describimos\n",
    "mergedCumulativeRevenue = cumulativeRevenueA.merge(\n",
    "    cumulativeRevenueB,\n",
    "    left_on='date',\n",
    "    right_on='date',\n",
    "    how='left',\n",
    "    suffixes=['A', 'B'],)"
   ]
  },
  {
   "cell_type": "code",
   "execution_count": 29,
   "metadata": {
    "trusted": false
   },
   "outputs": [
    {
     "name": "stdout",
     "output_type": "stream",
     "text": [
      "        date  revenueA  ordersA  revenueB  ordersB\n",
      "0 2019-08-01    2356.8       24    1620.0       21\n",
      "1 2019-08-02    3860.3       44    4243.8       45\n",
      "2 2019-08-03    5675.5       68    6050.6       61\n",
      "3 2019-08-04    6822.1       84    7767.9       78\n",
      "4 2019-08-05    8810.2      109    9262.9      101\n"
     ]
    }
   ],
   "source": [
    "#Visualizamos el Dataframe resultante\n",
    "print(mergedCumulativeRevenue.head())"
   ]
  },
  {
   "cell_type": "code",
   "execution_count": 30,
   "metadata": {
    "trusted": false
   },
   "outputs": [
    {
     "data": {
      "image/png": "[encoded data removed]",
      "text/plain": [
       "<Figure size 640x480 with 1 Axes>"
      ]
     },
     "metadata": {},
     "output_type": "display_data"
    }
   ],
   "source": [
    "#Grafiquemos la diferencia relativa en el tamaño de pedido promedio acumulado para el grupo B en comparación con el grupo A.\n",
    "plt.plot(\n",
    "mergedCumulativeRevenue['date'],\n",
    "(mergedCumulativeRevenue['revenueB'] / mergedCumulativeRevenue['ordersB'])/(mergedCumulativeRevenue['revenueA']/ mergedCumulativeRevenue['ordersA'])- 1,)\n",
    "plt.axhline(y=0, color='black', linestyle='--')\n",
    "plt.title(\"Diferencia relativa en tamaño de pedido\")\n",
    "plt.xlabel(\"Fechas por día\")\n",
    "plt.ylabel(\"Diferencia relativa\")\n",
    "\n",
    "\n",
    "plt.show()"
   ]
  },
  {
   "cell_type": "markdown",
   "metadata": {},
   "source": [
    "Conclusiones: En este grafico de diferencia relativa podemos ver que hubieron varios cambios repentinos y considerables. Un gran salto en el grupo B que se dio pasados de mitad del mes, aunque previamente igual existieron picos altos, el que se dio despues de mitad de mes fue superior con creces. Tal vez tengan que ver con compras anormalmente grandes. Mas adelante lo podremos confirmar. "
   ]
  },
  {
   "cell_type": "markdown",
   "metadata": {},
   "source": [
    "### Calcula la tasa de conversión de cada grupo como la relación entre los pedidos y el número de visitas de cada día. Representa gráficamente las tasas de conversión diarias de los dos grupos y describe la diferencia. Saca conclusiones y haz conjeturas."
   ]
  },
  {
   "cell_type": "markdown",
   "metadata": {},
   "source": [
    "Para calcular la tasa de conversion primero crearemos una columna al df \"cumulativeData\" en el cual tenemos los datos acumulados por dia de ambos grupos."
   ]
  },
  {
   "cell_type": "code",
   "execution_count": 31,
   "metadata": {
    "trusted": false
   },
   "outputs": [],
   "source": [
    "#Creamos la columna \"conversion\" en el df \"cumulativeData\"\n",
    "cumulativeData['conversion'] = (cumulativeData['orders'] / cumulativeData['visitors'])"
   ]
  },
  {
   "cell_type": "code",
   "execution_count": 32,
   "metadata": {
    "trusted": false
   },
   "outputs": [
    {
     "name": "stdout",
     "output_type": "stream",
     "text": [
      "        date group  orders  buyers  revenue  visitors  conversion\n",
      "0 2019-08-01     A      24      20   2356.8       719    0.033380\n",
      "1 2019-08-01     B      21      20   1620.0       713    0.029453\n",
      "2 2019-08-02     A      44      38   3860.3      1338    0.032885\n",
      "3 2019-08-02     B      45      43   4243.8      1294    0.034776\n",
      "4 2019-08-03     A      68      62   5675.5      1845    0.036856\n"
     ]
    }
   ],
   "source": [
    "#veamos como luce la nueva columna en el df \"cumulativeData\"\n",
    "print(cumulativeData.head())"
   ]
  },
  {
   "cell_type": "markdown",
   "metadata": {},
   "source": [
    "Ahora seleccionaremos los grupos A y B y los almacenaremos en variables diferentes \"cumulativeDataA\" y \"cumulativeDataB\""
   ]
  },
  {
   "cell_type": "code",
   "execution_count": 33,
   "metadata": {
    "trusted": false
   },
   "outputs": [],
   "source": [
    "#Almacenamos los del grupo A\n",
    "cumulativeDataA = cumulativeData[cumulativeData['group'] == 'A']\n",
    "#Almacenamos los del grupo B  \n",
    "cumulativeDataB = cumulativeData[cumulativeData['group'] == 'B']"
   ]
  },
  {
   "cell_type": "code",
   "execution_count": 34,
   "metadata": {
    "trusted": false
   },
   "outputs": [
    {
     "data": {
      "image/png": "[encoded data removed]",
      "text/plain": [
       "<Figure size 640x480 with 1 Axes>"
      ]
     },
     "metadata": {},
     "output_type": "display_data"
    }
   ],
   "source": [
    "#Ahora grafiquemos ordenando los datos respectivamente\n",
    "plt.plot(cumulativeDataA['date'], cumulativeDataA['conversion'], label='A')\n",
    "plt.plot(cumulativeDataB['date'], cumulativeDataB['conversion'], label='B')\n",
    "plt.axis([pd.to_datetime('2019-08-01'), pd.to_datetime('2019-09-01'), 0, 0.05])\n",
    "plt.title(\"Diferencia en tasa de conversion por grupo \")\n",
    "plt.xlabel(\"Fechas por día\")\n",
    "plt.ylabel(\"Diferencia de conversion\")\n",
    "plt.legend()\n",
    "\n",
    "plt.show()"
   ]
  },
  {
   "cell_type": "markdown",
   "metadata": {},
   "source": [
    "Conclusion: Podemos ver como al inicio de la prueba, el segmento A tenía una tasa de conversión más alta, pero el segmento B ganó gradualmente y se estabilizó en un valor casi constante. A demas podemos ver que al igual que en las otras metricas ya calculadas, en la conversion nuevamente el grupo B le saca ventaja al grupo A.  "
   ]
  },
  {
   "cell_type": "markdown",
   "metadata": {},
   "source": [
    "### Traza un gráfico de dispersión del número de pedidos por usuario. Haz conclusiones y conjeturas."
   ]
  },
  {
   "cell_type": "markdown",
   "metadata": {},
   "source": [
    "Usaremos el Dataframe \"orders\" que contiene la informacion necesaria para llevar a cabo el grafico de dispersion solicitado.\n",
    "Primero haremos un groupby para obtener las columnas que necesitamos \"visitor_id\"(que contiene identificador del usuario que realizó el pedido) en la cual especificamos con \"as_index=False\" que no queremos que sea el indice del pd.series y agregamos la columna \"transaction_id\" (que contiene el identificador de pedido) y le aplicamos \"pd.Series.nunique\" ya que queremos los pedidos unicos por usuario."
   ]
  },
  {
   "cell_type": "code",
   "execution_count": 35,
   "metadata": {
    "trusted": false
   },
   "outputs": [
    {
     "name": "stdout",
     "output_type": "stream",
     "text": [
      "   visitor_id  transaction_id\n",
      "0     5114589               1\n",
      "1     6958315               1\n",
      "2     8300375               2\n",
      "3    11685486               1\n",
      "4    39475350               1\n"
     ]
    }
   ],
   "source": [
    "#Aplicamos el groupby descrito y la almacenamos en la variable \"ordersByUsers\"\n",
    "ordersByUsers = (orders.groupby('visitor_id', as_index=False).agg({'transaction_id': pd.Series.nunique}))\n",
    "#visualizamos el groupby obtenido\n",
    "print(ordersByUsers.head())              "
   ]
  },
  {
   "cell_type": "code",
   "execution_count": 36,
   "metadata": {
    "scrolled": true,
    "trusted": false
   },
   "outputs": [
    {
     "name": "stdout",
     "output_type": "stream",
     "text": [
      "         user_id  orders\n",
      "1023  4256040402      11\n",
      "591   2458001652      11\n",
      "569   2378935119       9\n",
      "487   2038680547       8\n",
      "44     199603092       5\n"
     ]
    }
   ],
   "source": [
    "#ajustamos el nombre de las columnas\n",
    "ordersByUsers.columns = ['user_id', 'orders']\n",
    "#Y visualizamos los resultados ordenados de forma descendente \n",
    "print(ordersByUsers.sort_values(by='orders', ascending=False).head())"
   ]
  },
  {
   "cell_type": "code",
   "execution_count": 37,
   "metadata": {
    "trusted": false
   },
   "outputs": [
    {
     "data": {
      "image/png": "[encoded data removed]",
      "text/plain": [
       "<Figure size 640x480 with 1 Axes>"
      ]
     },
     "metadata": {},
     "output_type": "display_data"
    }
   ],
   "source": [
    "#Graficamos los resultados\n",
    "x_values = pd.Series(range(0,len(ordersByUsers)))\n",
    "plt.scatter(x_values, ordersByUsers['orders'])\n",
    "plt.title(\"Dispersion del número de pedidos por usuario\")\n",
    "plt.ylabel(\"Cantidad de pedidos\")\n",
    "plt.xlabel(\"Usuarios \")\n",
    "\n",
    "plt.show()"
   ]
  },
  {
   "cell_type": "markdown",
   "metadata": {},
   "source": [
    "Conclusion: Podemos concluir viendo el grafico de dispersion que hay muy pocos usuarios con mas de 2 pedidos y solo vemos dos casos con 11 compras, lo cual es bastante. Estos casos también pueden resultar ser anomalías. En los siguentes hallasgos podremos obtener mas informacion a cerca de las anomalias para poder concluir de mejor forma los datos que estamos viendo."
   ]
  },
  {
   "cell_type": "markdown",
   "metadata": {},
   "source": [
    "### Calcula los percentiles 95 y 99 del número de pedidos por usuario. Define el punto en el cual un punto de datos se convierte en una anomalía."
   ]
  },
  {
   "cell_type": "markdown",
   "metadata": {},
   "source": [
    "el método percentil() de NumPy para obtener el 95% y el 99%"
   ]
  },
  {
   "cell_type": "code",
   "execution_count": 38,
   "metadata": {
    "trusted": false
   },
   "outputs": [
    {
     "name": "stdout",
     "output_type": "stream",
     "text": [
      "[2. 4.]\n"
     ]
    }
   ],
   "source": [
    "#aplicamos el metodo descrito()\n",
    "print(np.percentile(ordersByUsers['orders'], [95, 99]))"
   ]
  },
  {
   "cell_type": "markdown",
   "metadata": {},
   "source": [
    "Conclusion: Aquí podemos ver que hasta el percetil 95% pertenecen a 2 pedidos por usuario, por lo cual alli estableceremos el limite, todos los usuarios que pidan mas de 2 productos se consideraran anomalos."
   ]
  },
  {
   "cell_type": "markdown",
   "metadata": {},
   "source": [
    "### Traza un gráfico de dispersión de los precios de los pedidos. Haz conclusiones y conjeturas."
   ]
  },
  {
   "cell_type": "markdown",
   "metadata": {},
   "source": [
    "Aqui el metodo es algo mas facil, ya que siquiera es necesario usar groupby a diferencia del ejercicio anterior.\n",
    "Usamos el df \"orders\" y ordenamos en base a \"revenue\". Luego realizamos el grafico de dispersion como hemos aprendido."
   ]
  },
  {
   "cell_type": "code",
   "execution_count": 39,
   "metadata": {
    "scrolled": true,
    "trusted": false
   },
   "outputs": [
    {
     "name": "stdout",
     "output_type": "stream",
     "text": [
      "      transaction_id  visitor_id       date  revenue group\n",
      "425        590470918  1920142716 2019-08-19  19920.4     B\n",
      "1196      3936777065  2108080724 2019-08-15   3120.1     B\n",
      "858        192721366  1316129916 2019-08-27   1450.2     A\n",
      "1136       666610489  1307669133 2019-08-13   1425.8     A\n",
      "744       3668308183   888512513 2019-08-27   1335.6     B\n"
     ]
    }
   ],
   "source": [
    "#visualizar la tabla ordenada en forma descendente para ver los mayores valores de ingresos primero  \n",
    "print(orders.sort_values(by='revenue',ascending=False).head())"
   ]
  },
  {
   "cell_type": "code",
   "execution_count": 40,
   "metadata": {
    "trusted": false
   },
   "outputs": [
    {
     "data": {
      "image/png": "[encoded data removed]",
      "text/plain": [
       "<Figure size 640x480 with 1 Axes>"
      ]
     },
     "metadata": {},
     "output_type": "display_data"
    }
   ],
   "source": [
    "#Graficamos\n",
    "x_values = pd.Series(range(0,len(orders['revenue'])))\n",
    "plt.scatter(x_values, orders['revenue'])\n",
    "plt.title(\"Dispersion de los ingresos por pedidos\")\n",
    "plt.xlabel(\"Usuarios\")\n",
    "plt.ylabel(\"ingresos\")\n",
    "\n",
    "plt.show()"
   ]
  },
  {
   "cell_type": "markdown",
   "metadata": {},
   "source": [
    "Conclusion: Podemos ver que hay pocos ingresos atipicos pero si son muy pronunciados. Podemos ver que no hay muchos pedidos con ingresos arriba de 1000. Hay alrrededor de solo diez pedidos con ingresos mayores arriba de 1000. A continuacion veremos el porcentaje de los valorea tipicos y evaluaremos que hacer al respecto. "
   ]
  },
  {
   "cell_type": "markdown",
   "metadata": {},
   "source": [
    "### Calcula los percentiles 95 y 99 de los precios de los pedidos. Define el punto en el cual un punto de datos se convierte en una anomalía."
   ]
  },
  {
   "cell_type": "markdown",
   "metadata": {},
   "source": [
    "el método percentil() de NumPy para obtener el 95% y el 99%"
   ]
  },
  {
   "cell_type": "code",
   "execution_count": 41,
   "metadata": {
    "trusted": false
   },
   "outputs": [
    {
     "name": "stdout",
     "output_type": "stream",
     "text": [
      "[435.54  900.904]\n"
     ]
    }
   ],
   "source": [
    "print(np.percentile(orders['revenue'], [95, 99]))"
   ]
  },
  {
   "cell_type": "markdown",
   "metadata": {},
   "source": [
    "Conclusion: Aqui definiremos el punto de anomalia desde el percentil 95% (ingreso de 435.54 por pedido)."
   ]
  },
  {
   "cell_type": "markdown",
   "metadata": {},
   "source": [
    "### Encuentra la significancia estadística de la diferencia en la conversión entre los grupos utilizando los datos en bruto. Haz conclusiones y conjeturas."
   ]
  },
  {
   "cell_type": "markdown",
   "metadata": {},
   "source": [
    "Crearemos las variables \"ordersByUsersA\" y \"ordersByUsersB\" para almacenar las columnas 'user_id', 'orders'. Para los usuarios con al menos un pedido, indicaremos el número de pedidos realizados. "
   ]
  },
  {
   "cell_type": "code",
   "execution_count": 42,
   "metadata": {
    "trusted": false
   },
   "outputs": [],
   "source": [
    "#Ejecutamos el groupby como acabamos de describir\n",
    "ordersByUsersA = orders[orders['group']=='A'].groupby('visitor_id', as_index=False).agg({'transaction_id' : pd.Series.nunique})\n",
    "ordersByUsersA.columns = ['user_id', 'orders']\n",
    "\n",
    "ordersByUsersB = orders[orders['group']=='B'].groupby('visitor_id', as_index=False).agg({'transaction_id' : pd.Series.nunique})\n",
    "ordersByUsersB.columns = ['user_id', 'orders']"
   ]
  },
  {
   "cell_type": "markdown",
   "metadata": {},
   "source": [
    "Ahora declararemos las variables sampleA y sampleB con usuarios de diferentes grupos y números de pedidos correspondientes. Los que no pidieron nada tendrán un 0. Esto es necesario para preparar las muestras para la prueba de Mann-Whitney. "
   ]
  },
  {
   "cell_type": "markdown",
   "metadata": {},
   "source": [
    "Concatenaremos la lista del número de pedidos de cada usuario: ordersByUsersA['orders'] con ceros para los usuarios que no pidieron nada. Su número es la diferencia entre el número total de visitantes y el número de registros en los pedidos: visits[visits['group'] == 'A']['visits'].sum() - len(ordersByUsersA['orders']). Lo mismo para sampleB. Hacemos un incapie para axis=0 (significa que opera a nivel de filas)"
   ]
  },
  {
   "cell_type": "code",
   "execution_count": 43,
   "metadata": {
    "trusted": false
   },
   "outputs": [],
   "source": [
    "#Aplicamos lo dicho previamente\n",
    "sampleA = pd.concat([ordersByUsersA['orders'],pd.Series(0,\n",
    "            index=np.arange(visits[visits['group'] == 'A']['visits'].sum()\n",
    "                - len(ordersByUsersA['orders'])),name='orders',),],axis=0,)"
   ]
  },
  {
   "cell_type": "code",
   "execution_count": 44,
   "metadata": {
    "trusted": false
   },
   "outputs": [],
   "source": [
    "#Aplicamos lo dicho previamente\n",
    "sampleB = pd.concat([ordersByUsersB['orders'],pd.Series(0,\n",
    "            index=np.arange(visits[visits['group'] == 'B']['visits'].sum()\n",
    "                - len(ordersByUsersB['orders'])),name='orders',),], axis=0,)"
   ]
  },
  {
   "cell_type": "code",
   "execution_count": 45,
   "metadata": {
    "scrolled": true,
    "trusted": false
   },
   "outputs": [
    {
     "name": "stdout",
     "output_type": "stream",
     "text": [
      "0.017\n",
      "0.138\n"
     ]
    }
   ],
   "source": [
    "#Imprimiremos el valor p para comparar la conversión de los grupos. Redondearemos a tres decimales. \n",
    "print('{0:.3f}'.format(stats.mannwhitneyu(sampleA, sampleB)[1]))\n",
    "#Imprimiremos la diferencia relativa en la conversión entre los grupos. Redondearemos a tres decimales.\n",
    "print('{0:.3f}'.format(sampleB.mean() / sampleA.mean() - 1))"
   ]
  },
  {
   "cell_type": "markdown",
   "metadata": {},
   "source": [
    "Conclusion: el valor p es menor que 0.05 por lo que rechazamos la hipótesis nula(Esta es de que ambas muestras son iguales). El análisis de datos sin procesar mostró que las tasas de conversión de los grupos tienen diferencias estadísticamente significativas.\n",
    "La ganancia de conversión relativa del grupo B en comparación con el grupo A es del 13.8%. "
   ]
  },
  {
   "cell_type": "markdown",
   "metadata": {},
   "source": [
    "### Encuentra la significancia estadística de la diferencia en el tamaño promedio de pedido entre los grupos utilizando los datos en bruto. Haz conclusiones y conjeturas."
   ]
  },
  {
   "cell_type": "markdown",
   "metadata": {},
   "source": [
    "Para calcular la importancia estadística de la diferencia en el tamaño medio de los pedidos de los segmentos, pasaremos los datos sobre los ingresos al criterio mannwhitneyu()"
   ]
  },
  {
   "cell_type": "code",
   "execution_count": 46,
   "metadata": {
    "trusted": false
   },
   "outputs": [
    {
     "name": "stdout",
     "output_type": "stream",
     "text": [
      "0.692\n",
      "0.252\n"
     ]
    }
   ],
   "source": [
    "print('{0:.3f}'.format(stats.mannwhitneyu(\n",
    "orders[orders['group'] == 'A']['revenue'],\n",
    "orders[orders['group'] == 'B']['revenue'],)[1]))\n",
    "print('{0:.3f}'.format(orders[orders['group'] == 'B']['revenue'].mean()/ orders[orders['group'] == 'A']['revenue'].mean() - 1))"
   ]
  },
  {
   "cell_type": "markdown",
   "metadata": {},
   "source": [
    "El valor p es muy superior a 0.05 por lo que no existen diferencias estadísticamente significativas entre los tamaños de pedido promedio de los grupos. No obstante, el tamaño de pedido promedio para el grupo B es mayor que para el grupo A."
   ]
  },
  {
   "cell_type": "markdown",
   "metadata": {},
   "source": [
    "### Encuentra la significancia estadística de la diferencia en la conversión entre los grupos utilizando los datos filtrados. Haz conclusiones y conjeturas."
   ]
  },
  {
   "cell_type": "markdown",
   "metadata": {},
   "source": [
    "Ahora crearemos dos variables para almacenar los datos que consideramos anomalos y asi filtrar los datos originales.\n",
    "Usamos el criterio del percentil 95% para ambas pruebas."
   ]
  },
  {
   "cell_type": "code",
   "execution_count": 47,
   "metadata": {
    "trusted": false
   },
   "outputs": [
    {
     "name": "stdout",
     "output_type": "stream",
     "text": [
      "1099    148427295\n",
      "18      199603092\n",
      "928     204675465\n",
      "23      237748145\n",
      "37      249864742\n",
      "dtype: int64\n",
      "(74,)\n"
     ]
    }
   ],
   "source": [
    "#En esta variable almacenaremos a los usuarios con muchos pedidos\n",
    "#Todos los usuarios con pedidos mayores a 2\n",
    "usersWithManyOrders = pd.concat([ordersByUsersA[ordersByUsersA['orders'] > 2]['user_id'], ordersByUsersB[ordersByUsersB['orders'] > 2]['user_id']], axis = 0)\n",
    "#Aqui almacenaremos a usuarios con pedidos caros\n",
    "#ingresos mayores que 435.54\n",
    "usersWithExpensiveOrders = orders[orders['revenue'] > 435.54]['visitor_id']\n",
    "#En \"abnormalUsers\" almacenaremos ambas listas\n",
    "abnormalUsers = pd.concat([usersWithManyOrders, usersWithExpensiveOrders], axis = 0).drop_duplicates().sort_values()\n",
    "print(abnormalUsers.head(5))\n",
    "print(abnormalUsers.shape)"
   ]
  },
  {
   "cell_type": "markdown",
   "metadata": {},
   "source": [
    "En total hay 74 filas con datos anomalos. Ya con esto podemos filtrar los datos."
   ]
  },
  {
   "cell_type": "code",
   "execution_count": 48,
   "metadata": {
    "trusted": false
   },
   "outputs": [],
   "source": [
    "#Filtramos por grupo A\n",
    "sampleAFiltered = pd.concat([ordersByUsersA[np.logical_not(ordersByUsersA['user_id'].isin(abnormalUsers))]['orders'],\n",
    "                             pd.Series(0, index=np.arange(visits[visits['group']=='A']['visits'].\n",
    "                             sum() - len(ordersByUsersA['orders'])),name='orders')],axis=0)"
   ]
  },
  {
   "cell_type": "code",
   "execution_count": 49,
   "metadata": {
    "trusted": false
   },
   "outputs": [],
   "source": [
    "#Filtramos por grupo B\n",
    "sampleBFiltered = pd.concat([ordersByUsersB[np.logical_not(ordersByUsersB['user_id'].isin(abnormalUsers))]['orders'],\n",
    "                             pd.Series(0, index=np.arange(visits[visits['group']=='B']['visits'].\n",
    "                             sum() - len(ordersByUsersB['orders'])),name='orders')],axis=0)"
   ]
  },
  {
   "cell_type": "code",
   "execution_count": 50,
   "metadata": {
    "trusted": false
   },
   "outputs": [
    {
     "name": "stdout",
     "output_type": "stream",
     "text": [
      "0.013\n",
      "0.173\n"
     ]
    }
   ],
   "source": [
    "#Apliquemos el criterio estadístico de Mann-Whitney a las muestras resultantes:\n",
    "#Imprimiremos el valor p para comparar la conversión de los grupos. Redondearemos a tres decimales.\n",
    "print(\"{0:.3f}\".format(stats.mannwhitneyu(sampleAFiltered, sampleBFiltered)[1]))\n",
    "#Imprimiremos la diferencia relativa en la conversión entre los grupos. Redondearemos a tres decimales.\n",
    "print(\"{0:.3f}\".format(sampleBFiltered.mean()/sampleAFiltered.mean()-1))"
   ]
  },
  {
   "cell_type": "markdown",
   "metadata": {},
   "source": [
    "Conclusion: Cambiaron algo los numeros pero no vario mucho que digamos. Igual que con los datos sin procesar, hemos alcanzado el nivel de significación. El segmento B es mejor que el segmento A."
   ]
  },
  {
   "cell_type": "markdown",
   "metadata": {},
   "source": [
    "### Encuentra la significancia estadística de la diferencia en el tamaño promedio de pedido entre los grupos utilizando los datos filtrados. Haz conclusiones y conjeturas."
   ]
  },
  {
   "cell_type": "markdown",
   "metadata": {},
   "source": [
    "Aqui es algo mas rapido que el ejercicio pasado ya que gracias a las variables que creamos podemos pasar directamente al codigo para obtener el resultado deseado."
   ]
  },
  {
   "cell_type": "code",
   "execution_count": 51,
   "metadata": {
    "trusted": false
   },
   "outputs": [
    {
     "name": "stdout",
     "output_type": "stream",
     "text": [
      "0.788\n",
      "-0.019\n"
     ]
    }
   ],
   "source": [
    "#Muestra el valor p calculado con la prueba U de Mann-Whitney\n",
    "print(\"{0:.3f}\".format(stats.mannwhitneyu(orders[np.logical_and(\n",
    "        orders['group']=='A',  # Selecciona datos en el grupo A\n",
    "        np.logical_not(orders['visitor_id'].isin(abnormalUsers)))]['revenue'],  # Excluye los usuarios anormales y selecciona los datos de ingreso para el grupo A\n",
    "    orders[np.logical_and(\n",
    "        orders['group']=='B',  # Selecciona datos en el grupo B\n",
    "        np.logical_not(orders['visitor_id'].isin(abnormalUsers)))]['revenue']  # Excluye los usuarios anormales y selecciona los datos de ingreso para el grupo B\n",
    ")[1]))\n",
    "print(\"{0:.3f}\".format(orders[np.logical_and(orders['group']=='B',  # Selecciona datos en el grupo B\n",
    "           np.logical_not(orders['visitor_id'].isin(abnormalUsers)))]['revenue'].mean() /  # Calcula el ingreso medio para el grupo B\n",
    "    orders[np.logical_and(orders['group']=='A',  # Selecciona datos en el grupo A\n",
    "           np.logical_not(orders['visitor_id'].isin(abnormalUsers)))]['revenue'].mean() - 1))"
   ]
  },
  {
   "cell_type": "markdown",
   "metadata": {},
   "source": [
    "Conclusion: llama la atencion pero: ¡Esta vez obtuvimos una diferencia estadísticamente significativa entre los tamaños de pedido promedio de los grupos!.\n",
    "El valor p sigue por encima del 0.05 lo que no podemos rechazar la hipotesis nula(que no hay grandes diferencias esstadisticas significativas entre los tamaños de pedidos promedio de los grupos).\n",
    "Por otro lado las diferencias indican que eliminar los valores atípicos disminuyó la cantidad de ruido en los datos: la varianza disminuyó.\n",
    "Ahora los ingresos del grupo A son 1,9% mayores que el grupo B. "
   ]
  },
  {
   "cell_type": "markdown",
   "metadata": {},
   "source": [
    "### Toma una decisión basada en los resultados de la prueba. Las decisiones posibles son: 1. Parar la prueba, considerar a uno de los grupos como líder. 2. Parar la prueba, concluir que no hay diferencia entre los grupos. 3. Continuar la prueba."
   ]
  },
  {
   "cell_type": "markdown",
   "metadata": {},
   "source": [
    "Mi decision es la opcion 1: Parar la prueba, considerar a uno de los grupos como líder en este caso el grupo B.\n",
    "¿Porque esa decision?\n",
    "* Porque los datos abalan que el grupo B es mas consistente en general:\n",
    "- En cuanto ingresos acumulado el grupo B se muestra mejor y mas solidos que el grupo A.\n",
    "- En cuanto al tamaño de pedido promedio acumulado por grupo, el grupo B tambien se ve mejor.\n",
    "- En cuanto a conversion se ve mejor tambien el grupo B.\n",
    "- En las significancia estadística se le ve mejor tambien al grupo B.\n",
    "- A medida que los datos fluctuaban y se estabilizaban por lo general el grupo B se mostraba mas solido que el grupo A.\n",
    "* En defensa de el grupo A:\n",
    "- En general tambien tenia un alza en los datos realizados, como por ejemplo en los ingresos, en el tamaño de pedidos.\n",
    "- Cuando filtramos los datos atipicos se pudo ver mejor al grupo A respecto a con los datos en bruto.\n",
    "\n"
   ]
  }
 ],
 "metadata": {
  "ExecuteTimeLog": [
   {
    "duration": 2604,
    "start_time": "2025-02-17T16:08:00.958Z"
   },
   {
    "duration": 29,
    "start_time": "2025-02-17T16:13:28.113Z"
   },
   {
    "duration": 8,
    "start_time": "2025-02-17T16:13:42.035Z"
   },
   {
    "duration": 11,
    "start_time": "2025-02-17T16:17:01.331Z"
   },
   {
    "duration": 6,
    "start_time": "2025-02-17T16:17:18.453Z"
   },
   {
    "duration": 7,
    "start_time": "2025-02-17T16:17:26.690Z"
   },
   {
    "duration": 12,
    "start_time": "2025-02-17T16:17:32.089Z"
   },
   {
    "duration": 11,
    "start_time": "2025-02-17T16:17:44.513Z"
   },
   {
    "duration": 126,
    "start_time": "2025-02-17T16:18:10.253Z"
   },
   {
    "duration": 8,
    "start_time": "2025-02-17T16:18:14.431Z"
   },
   {
    "duration": 6,
    "start_time": "2025-02-17T16:19:14.984Z"
   },
   {
    "duration": 519,
    "start_time": "2025-02-17T16:19:20.622Z"
   },
   {
    "duration": 11,
    "start_time": "2025-02-17T16:19:36.033Z"
   },
   {
    "duration": 5,
    "start_time": "2025-02-17T16:33:41.650Z"
   },
   {
    "duration": 5,
    "start_time": "2025-02-17T16:33:48.323Z"
   },
   {
    "duration": 14,
    "start_time": "2025-02-17T16:34:03.675Z"
   },
   {
    "duration": 7,
    "start_time": "2025-02-17T16:34:07.138Z"
   },
   {
    "duration": 9,
    "start_time": "2025-02-17T16:35:21.145Z"
   },
   {
    "duration": 7,
    "start_time": "2025-02-17T16:35:41.349Z"
   },
   {
    "duration": 7,
    "start_time": "2025-02-17T16:35:48.622Z"
   },
   {
    "duration": 9,
    "start_time": "2025-02-17T16:36:02.547Z"
   },
   {
    "duration": 8,
    "start_time": "2025-02-17T16:40:28.090Z"
   },
   {
    "duration": 14,
    "start_time": "2025-02-17T16:43:00.319Z"
   },
   {
    "duration": 5,
    "start_time": "2025-02-17T16:43:29.407Z"
   },
   {
    "duration": 9,
    "start_time": "2025-02-17T16:44:08.532Z"
   },
   {
    "duration": 6,
    "start_time": "2025-02-17T16:44:17.362Z"
   },
   {
    "duration": 5,
    "start_time": "2025-02-17T16:55:17.349Z"
   },
   {
    "duration": 4,
    "start_time": "2025-02-17T16:56:22.862Z"
   },
   {
    "duration": 6,
    "start_time": "2025-02-17T16:57:07.671Z"
   },
   {
    "duration": 6,
    "start_time": "2025-02-17T16:58:03.128Z"
   },
   {
    "duration": 5,
    "start_time": "2025-02-17T16:58:23.695Z"
   },
   {
    "duration": 4,
    "start_time": "2025-02-17T17:04:10.868Z"
   },
   {
    "duration": 11,
    "start_time": "2025-02-17T17:05:32.970Z"
   },
   {
    "duration": 5,
    "start_time": "2025-02-17T17:06:53.497Z"
   },
   {
    "duration": 5,
    "start_time": "2025-02-17T17:06:58.984Z"
   },
   {
    "duration": 6,
    "start_time": "2025-02-17T17:07:45.386Z"
   },
   {
    "duration": 7,
    "start_time": "2025-02-17T17:11:41.674Z"
   },
   {
    "duration": 13,
    "start_time": "2025-02-17T17:12:05.645Z"
   },
   {
    "duration": 5,
    "start_time": "2025-02-17T17:29:30.634Z"
   },
   {
    "duration": 9,
    "start_time": "2025-02-17T17:29:52.657Z"
   },
   {
    "duration": 5,
    "start_time": "2025-02-17T17:29:56.599Z"
   },
   {
    "duration": 3,
    "start_time": "2025-02-17T17:30:16.629Z"
   },
   {
    "duration": 9,
    "start_time": "2025-02-17T17:30:34.906Z"
   },
   {
    "duration": 10,
    "start_time": "2025-02-17T17:30:49.906Z"
   },
   {
    "duration": 5,
    "start_time": "2025-02-17T17:32:04.427Z"
   },
   {
    "duration": 7,
    "start_time": "2025-02-17T18:01:01.238Z"
   },
   {
    "duration": 55,
    "start_time": "2025-02-17T18:05:20.219Z"
   },
   {
    "duration": 6,
    "start_time": "2025-02-17T18:05:33.873Z"
   },
   {
    "duration": 8,
    "start_time": "2025-02-17T18:07:32.076Z"
   },
   {
    "duration": 8,
    "start_time": "2025-02-17T18:07:43.351Z"
   },
   {
    "duration": 9,
    "start_time": "2025-02-17T18:09:40.939Z"
   },
   {
    "duration": 6,
    "start_time": "2025-02-17T18:09:41.144Z"
   },
   {
    "duration": 8,
    "start_time": "2025-02-17T18:09:42.116Z"
   },
   {
    "duration": 2635,
    "start_time": "2025-02-17T18:57:35.933Z"
   },
   {
    "duration": 18,
    "start_time": "2025-02-17T18:57:38.571Z"
   },
   {
    "duration": 9,
    "start_time": "2025-02-17T18:57:38.590Z"
   },
   {
    "duration": 5,
    "start_time": "2025-02-17T18:57:38.601Z"
   },
   {
    "duration": 10,
    "start_time": "2025-02-17T18:57:42.071Z"
   },
   {
    "duration": 4,
    "start_time": "2025-02-17T18:57:42.268Z"
   },
   {
    "duration": 4,
    "start_time": "2025-02-17T18:57:42.471Z"
   },
   {
    "duration": 7,
    "start_time": "2025-02-17T18:57:42.668Z"
   },
   {
    "duration": 11,
    "start_time": "2025-02-17T18:57:43.238Z"
   },
   {
    "duration": 5,
    "start_time": "2025-02-17T18:57:43.624Z"
   },
   {
    "duration": 5,
    "start_time": "2025-02-17T18:57:43.822Z"
   },
   {
    "duration": 8,
    "start_time": "2025-02-17T18:57:44.843Z"
   },
   {
    "duration": 8,
    "start_time": "2025-02-17T18:57:45.077Z"
   },
   {
    "duration": 13,
    "start_time": "2025-02-17T18:57:46.476Z"
   },
   {
    "duration": 2734,
    "start_time": "2025-02-18T00:00:49.262Z"
   },
   {
    "duration": 16,
    "start_time": "2025-02-18T00:00:51.999Z"
   },
   {
    "duration": 16,
    "start_time": "2025-02-18T00:00:52.018Z"
   },
   {
    "duration": 6,
    "start_time": "2025-02-18T00:00:52.299Z"
   },
   {
    "duration": 9,
    "start_time": "2025-02-18T00:00:53.786Z"
   },
   {
    "duration": 4,
    "start_time": "2025-02-18T00:00:54.376Z"
   },
   {
    "duration": 5,
    "start_time": "2025-02-18T00:00:54.866Z"
   },
   {
    "duration": 6,
    "start_time": "2025-02-18T00:00:55.426Z"
   },
   {
    "duration": 9,
    "start_time": "2025-02-18T00:01:01.240Z"
   },
   {
    "duration": 4,
    "start_time": "2025-02-18T00:01:01.588Z"
   },
   {
    "duration": 5,
    "start_time": "2025-02-18T00:01:02.337Z"
   },
   {
    "duration": 5,
    "start_time": "2025-02-18T00:01:25.297Z"
   },
   {
    "duration": 8,
    "start_time": "2025-02-18T00:01:26.506Z"
   },
   {
    "duration": 9,
    "start_time": "2025-02-18T00:01:30.759Z"
   },
   {
    "duration": 9,
    "start_time": "2025-02-18T00:01:31.193Z"
   },
   {
    "duration": 11,
    "start_time": "2025-02-18T00:55:18.904Z"
   },
   {
    "duration": 7,
    "start_time": "2025-02-18T00:55:39.972Z"
   },
   {
    "duration": 8,
    "start_time": "2025-02-18T00:56:11.685Z"
   },
   {
    "duration": 9,
    "start_time": "2025-02-18T00:56:48.783Z"
   },
   {
    "duration": 145,
    "start_time": "2025-02-18T00:57:32.099Z"
   },
   {
    "duration": 2570,
    "start_time": "2025-02-18T19:52:16.173Z"
   },
   {
    "duration": 24,
    "start_time": "2025-02-18T19:52:18.745Z"
   },
   {
    "duration": 9,
    "start_time": "2025-02-18T19:52:18.770Z"
   },
   {
    "duration": 5,
    "start_time": "2025-02-18T19:52:18.781Z"
   },
   {
    "duration": 8,
    "start_time": "2025-02-18T19:52:18.788Z"
   },
   {
    "duration": 17,
    "start_time": "2025-02-18T19:52:18.798Z"
   },
   {
    "duration": 4,
    "start_time": "2025-02-18T19:52:18.817Z"
   },
   {
    "duration": 5,
    "start_time": "2025-02-18T19:52:18.823Z"
   },
   {
    "duration": 8,
    "start_time": "2025-02-18T19:52:19.090Z"
   },
   {
    "duration": 4,
    "start_time": "2025-02-18T19:52:19.320Z"
   },
   {
    "duration": 5,
    "start_time": "2025-02-18T19:52:19.562Z"
   },
   {
    "duration": 10,
    "start_time": "2025-02-18T19:52:20.453Z"
   },
   {
    "duration": 8,
    "start_time": "2025-02-18T19:52:20.647Z"
   },
   {
    "duration": 8,
    "start_time": "2025-02-18T19:52:21.086Z"
   },
   {
    "duration": 142,
    "start_time": "2025-02-18T19:52:21.449Z"
   },
   {
    "duration": 134,
    "start_time": "2025-02-18T20:02:12.404Z"
   },
   {
    "duration": 139,
    "start_time": "2025-02-18T20:09:47.259Z"
   },
   {
    "duration": 3,
    "start_time": "2025-02-18T20:20:10.531Z"
   },
   {
    "duration": 14,
    "start_time": "2025-02-18T20:20:10.861Z"
   },
   {
    "duration": 8,
    "start_time": "2025-02-18T20:20:11.384Z"
   },
   {
    "duration": 4,
    "start_time": "2025-02-18T20:20:11.570Z"
   },
   {
    "duration": 9,
    "start_time": "2025-02-18T20:20:12.080Z"
   },
   {
    "duration": 4,
    "start_time": "2025-02-18T20:20:12.256Z"
   },
   {
    "duration": 4,
    "start_time": "2025-02-18T20:20:12.429Z"
   },
   {
    "duration": 5,
    "start_time": "2025-02-18T20:20:12.616Z"
   },
   {
    "duration": 8,
    "start_time": "2025-02-18T20:20:13.177Z"
   },
   {
    "duration": 4,
    "start_time": "2025-02-18T20:20:13.359Z"
   },
   {
    "duration": 5,
    "start_time": "2025-02-18T20:20:13.546Z"
   },
   {
    "duration": 6,
    "start_time": "2025-02-18T20:20:14.648Z"
   },
   {
    "duration": 6,
    "start_time": "2025-02-18T20:20:14.980Z"
   },
   {
    "duration": 8,
    "start_time": "2025-02-18T20:20:15.552Z"
   },
   {
    "duration": 118,
    "start_time": "2025-02-18T20:24:36.174Z"
   },
   {
    "duration": 127,
    "start_time": "2025-02-18T20:27:04.899Z"
   },
   {
    "duration": 111,
    "start_time": "2025-02-18T20:27:18.813Z"
   },
   {
    "duration": 184,
    "start_time": "2025-02-18T20:30:15.082Z"
   },
   {
    "duration": 8,
    "start_time": "2025-02-18T20:31:15.353Z"
   },
   {
    "duration": 7,
    "start_time": "2025-02-18T20:31:34.956Z"
   },
   {
    "duration": 7,
    "start_time": "2025-02-18T20:31:35.126Z"
   },
   {
    "duration": 117,
    "start_time": "2025-02-18T20:31:35.302Z"
   },
   {
    "duration": 2591,
    "start_time": "2025-02-19T00:56:34.272Z"
   },
   {
    "duration": 25,
    "start_time": "2025-02-19T00:56:36.866Z"
   },
   {
    "duration": 9,
    "start_time": "2025-02-19T00:56:36.892Z"
   },
   {
    "duration": 5,
    "start_time": "2025-02-19T00:56:36.903Z"
   },
   {
    "duration": 8,
    "start_time": "2025-02-19T00:56:36.911Z"
   },
   {
    "duration": 4,
    "start_time": "2025-02-19T00:56:37.061Z"
   },
   {
    "duration": 6,
    "start_time": "2025-02-19T00:56:37.305Z"
   },
   {
    "duration": 5,
    "start_time": "2025-02-19T00:56:37.540Z"
   },
   {
    "duration": 10,
    "start_time": "2025-02-19T00:56:38.260Z"
   },
   {
    "duration": 5,
    "start_time": "2025-02-19T00:56:38.506Z"
   },
   {
    "duration": 6,
    "start_time": "2025-02-19T00:56:38.696Z"
   },
   {
    "duration": 15,
    "start_time": "2025-02-19T00:56:39.535Z"
   },
   {
    "duration": 9,
    "start_time": "2025-02-19T00:56:39.786Z"
   },
   {
    "duration": 151,
    "start_time": "2025-02-19T00:56:40.050Z"
   },
   {
    "duration": 9,
    "start_time": "2025-02-19T00:56:40.762Z"
   },
   {
    "duration": 126,
    "start_time": "2025-02-19T00:56:40.994Z"
   },
   {
    "duration": 138,
    "start_time": "2025-02-19T00:56:42.457Z"
   },
   {
    "duration": 2520,
    "start_time": "2025-02-19T02:10:57.895Z"
   },
   {
    "duration": 19,
    "start_time": "2025-02-19T02:11:00.417Z"
   },
   {
    "duration": 9,
    "start_time": "2025-02-19T02:11:00.437Z"
   },
   {
    "duration": 5,
    "start_time": "2025-02-19T02:11:00.448Z"
   },
   {
    "duration": 8,
    "start_time": "2025-02-19T02:11:00.455Z"
   },
   {
    "duration": 3,
    "start_time": "2025-02-19T02:11:00.465Z"
   },
   {
    "duration": 5,
    "start_time": "2025-02-19T02:11:00.470Z"
   },
   {
    "duration": 6,
    "start_time": "2025-02-19T02:11:00.476Z"
   },
   {
    "duration": 8,
    "start_time": "2025-02-19T02:11:00.641Z"
   },
   {
    "duration": 4,
    "start_time": "2025-02-19T02:11:00.805Z"
   },
   {
    "duration": 5,
    "start_time": "2025-02-19T02:11:01.017Z"
   },
   {
    "duration": 8,
    "start_time": "2025-02-19T02:11:01.823Z"
   },
   {
    "duration": 8,
    "start_time": "2025-02-19T02:11:02.021Z"
   },
   {
    "duration": 126,
    "start_time": "2025-02-19T02:11:02.223Z"
   },
   {
    "duration": 7,
    "start_time": "2025-02-19T02:11:04.201Z"
   },
   {
    "duration": 116,
    "start_time": "2025-02-19T02:11:05.298Z"
   },
   {
    "duration": 151,
    "start_time": "2025-02-19T02:11:11.353Z"
   },
   {
    "duration": 3,
    "start_time": "2025-02-19T02:24:36.598Z"
   },
   {
    "duration": 15,
    "start_time": "2025-02-19T02:24:37.477Z"
   },
   {
    "duration": 8,
    "start_time": "2025-02-19T02:24:38.050Z"
   },
   {
    "duration": 5,
    "start_time": "2025-02-19T02:24:38.236Z"
   },
   {
    "duration": 9,
    "start_time": "2025-02-19T02:24:38.783Z"
   },
   {
    "duration": 3,
    "start_time": "2025-02-19T02:24:38.982Z"
   },
   {
    "duration": 4,
    "start_time": "2025-02-19T02:24:39.156Z"
   },
   {
    "duration": 7,
    "start_time": "2025-02-19T02:24:39.348Z"
   },
   {
    "duration": 12,
    "start_time": "2025-02-19T02:24:39.945Z"
   },
   {
    "duration": 3,
    "start_time": "2025-02-19T02:24:40.137Z"
   },
   {
    "duration": 7,
    "start_time": "2025-02-19T02:24:40.312Z"
   },
   {
    "duration": 6,
    "start_time": "2025-02-19T02:24:41.362Z"
   },
   {
    "duration": 6,
    "start_time": "2025-02-19T02:24:41.578Z"
   },
   {
    "duration": 122,
    "start_time": "2025-02-19T02:24:41.777Z"
   },
   {
    "duration": 7,
    "start_time": "2025-02-19T02:24:42.366Z"
   },
   {
    "duration": 116,
    "start_time": "2025-02-19T02:24:42.563Z"
   },
   {
    "duration": 206,
    "start_time": "2025-02-19T02:24:43.254Z"
   },
   {
    "duration": 2524,
    "start_time": "2025-02-19T14:00:53.154Z"
   },
   {
    "duration": 32,
    "start_time": "2025-02-19T14:00:55.681Z"
   },
   {
    "duration": 11,
    "start_time": "2025-02-19T14:00:55.715Z"
   },
   {
    "duration": 6,
    "start_time": "2025-02-19T14:00:55.728Z"
   },
   {
    "duration": 10,
    "start_time": "2025-02-19T14:00:56.860Z"
   },
   {
    "duration": 4,
    "start_time": "2025-02-19T14:00:57.086Z"
   },
   {
    "duration": 5,
    "start_time": "2025-02-19T14:00:57.284Z"
   },
   {
    "duration": 5,
    "start_time": "2025-02-19T14:00:57.515Z"
   },
   {
    "duration": 10,
    "start_time": "2025-02-19T14:00:58.145Z"
   },
   {
    "duration": 4,
    "start_time": "2025-02-19T14:00:58.328Z"
   },
   {
    "duration": 5,
    "start_time": "2025-02-19T14:00:58.548Z"
   },
   {
    "duration": 10,
    "start_time": "2025-02-19T14:00:59.464Z"
   },
   {
    "duration": 8,
    "start_time": "2025-02-19T14:00:59.594Z"
   },
   {
    "duration": 3,
    "start_time": "2025-02-19T14:05:30.647Z"
   },
   {
    "duration": 13,
    "start_time": "2025-02-19T14:05:34.815Z"
   },
   {
    "duration": 10,
    "start_time": "2025-02-19T14:05:41.344Z"
   },
   {
    "duration": 5,
    "start_time": "2025-02-19T14:05:45.951Z"
   },
   {
    "duration": 11,
    "start_time": "2025-02-19T14:05:47.493Z"
   },
   {
    "duration": 10,
    "start_time": "2025-02-19T14:06:28.473Z"
   },
   {
    "duration": 10,
    "start_time": "2025-02-19T14:06:39.325Z"
   },
   {
    "duration": 5,
    "start_time": "2025-02-19T14:06:54.615Z"
   },
   {
    "duration": 8,
    "start_time": "2025-02-19T14:07:00.536Z"
   },
   {
    "duration": 4,
    "start_time": "2025-02-19T14:07:11.415Z"
   },
   {
    "duration": 7,
    "start_time": "2025-02-19T14:07:44.260Z"
   },
   {
    "duration": 5,
    "start_time": "2025-02-19T14:07:44.269Z"
   },
   {
    "duration": 2,
    "start_time": "2025-02-19T14:07:44.276Z"
   },
   {
    "duration": 11,
    "start_time": "2025-02-19T14:07:44.280Z"
   },
   {
    "duration": 8,
    "start_time": "2025-02-19T14:07:44.293Z"
   },
   {
    "duration": 4,
    "start_time": "2025-02-19T14:07:44.302Z"
   },
   {
    "duration": 9,
    "start_time": "2025-02-19T14:07:45.484Z"
   },
   {
    "duration": 4,
    "start_time": "2025-02-19T14:07:45.705Z"
   },
   {
    "duration": 5,
    "start_time": "2025-02-19T14:07:46.268Z"
   },
   {
    "duration": 5,
    "start_time": "2025-02-19T14:07:47.292Z"
   },
   {
    "duration": 8,
    "start_time": "2025-02-19T14:07:48.873Z"
   },
   {
    "duration": 5,
    "start_time": "2025-02-19T14:08:01.732Z"
   },
   {
    "duration": 6,
    "start_time": "2025-02-19T14:08:08.927Z"
   },
   {
    "duration": 8,
    "start_time": "2025-02-19T14:08:29.821Z"
   },
   {
    "duration": 135,
    "start_time": "2025-02-19T14:08:39.087Z"
   },
   {
    "duration": 8,
    "start_time": "2025-02-19T14:09:01.315Z"
   },
   {
    "duration": 117,
    "start_time": "2025-02-19T14:09:08.107Z"
   },
   {
    "duration": 142,
    "start_time": "2025-02-19T14:09:15.221Z"
   },
   {
    "duration": 406,
    "start_time": "2025-02-19T14:13:38.621Z"
   },
   {
    "duration": 3,
    "start_time": "2025-02-19T14:15:09.514Z"
   },
   {
    "duration": 11,
    "start_time": "2025-02-19T14:15:09.952Z"
   },
   {
    "duration": 9,
    "start_time": "2025-02-19T14:15:10.536Z"
   },
   {
    "duration": 4,
    "start_time": "2025-02-19T14:15:10.739Z"
   },
   {
    "duration": 11,
    "start_time": "2025-02-19T14:15:12.689Z"
   },
   {
    "duration": 4,
    "start_time": "2025-02-19T14:15:13.752Z"
   },
   {
    "duration": 9,
    "start_time": "2025-02-19T14:15:14.542Z"
   },
   {
    "duration": 34,
    "start_time": "2025-02-19T14:15:38.827Z"
   },
   {
    "duration": 35,
    "start_time": "2025-02-19T14:15:51.960Z"
   },
   {
    "duration": 3,
    "start_time": "2025-02-19T14:15:55.600Z"
   },
   {
    "duration": 11,
    "start_time": "2025-02-19T14:15:56.064Z"
   },
   {
    "duration": 8,
    "start_time": "2025-02-19T14:15:56.536Z"
   },
   {
    "duration": 4,
    "start_time": "2025-02-19T14:15:56.741Z"
   },
   {
    "duration": 8,
    "start_time": "2025-02-19T14:15:59.942Z"
   },
   {
    "duration": 4,
    "start_time": "2025-02-19T14:16:00.875Z"
   },
   {
    "duration": 9,
    "start_time": "2025-02-19T14:16:05.513Z"
   },
   {
    "duration": 5,
    "start_time": "2025-02-19T14:16:13.592Z"
   },
   {
    "duration": 10,
    "start_time": "2025-02-19T14:16:21.356Z"
   },
   {
    "duration": 3,
    "start_time": "2025-02-19T14:29:44.527Z"
   },
   {
    "duration": 15,
    "start_time": "2025-02-19T14:29:44.930Z"
   },
   {
    "duration": 9,
    "start_time": "2025-02-19T14:29:45.464Z"
   },
   {
    "duration": 4,
    "start_time": "2025-02-19T14:29:45.666Z"
   },
   {
    "duration": 8,
    "start_time": "2025-02-19T14:29:47.204Z"
   },
   {
    "duration": 4,
    "start_time": "2025-02-19T14:29:47.994Z"
   },
   {
    "duration": 4,
    "start_time": "2025-02-19T14:29:52.648Z"
   },
   {
    "duration": 8,
    "start_time": "2025-02-19T14:29:53.866Z"
   },
   {
    "duration": 5,
    "start_time": "2025-02-19T14:29:55.169Z"
   },
   {
    "duration": 8,
    "start_time": "2025-02-19T14:29:56.001Z"
   },
   {
    "duration": 4,
    "start_time": "2025-02-19T14:29:56.186Z"
   },
   {
    "duration": 5,
    "start_time": "2025-02-19T14:29:56.382Z"
   },
   {
    "duration": 6,
    "start_time": "2025-02-19T14:29:57.153Z"
   },
   {
    "duration": 8,
    "start_time": "2025-02-19T14:29:57.323Z"
   },
   {
    "duration": 120,
    "start_time": "2025-02-19T14:29:57.509Z"
   },
   {
    "duration": 7,
    "start_time": "2025-02-19T14:29:58.064Z"
   },
   {
    "duration": 110,
    "start_time": "2025-02-19T14:29:58.254Z"
   },
   {
    "duration": 131,
    "start_time": "2025-02-19T14:29:59.018Z"
   },
   {
    "duration": 5,
    "start_time": "2025-02-19T14:33:25.681Z"
   },
   {
    "duration": 5,
    "start_time": "2025-02-19T14:39:44.868Z"
   },
   {
    "duration": 382,
    "start_time": "2025-02-19T14:40:11.245Z"
   },
   {
    "duration": 136,
    "start_time": "2025-02-19T14:42:29.967Z"
   },
   {
    "duration": 10,
    "start_time": "2025-02-19T14:43:10.891Z"
   },
   {
    "duration": 138,
    "start_time": "2025-02-19T14:45:20.498Z"
   },
   {
    "duration": 10,
    "start_time": "2025-02-19T14:45:21.402Z"
   },
   {
    "duration": 9,
    "start_time": "2025-02-19T14:48:33.327Z"
   },
   {
    "duration": 9,
    "start_time": "2025-02-19T14:49:06.428Z"
   },
   {
    "duration": 8,
    "start_time": "2025-02-19T14:53:02.129Z"
   },
   {
    "duration": 40,
    "start_time": "2025-02-19T15:01:17.450Z"
   },
   {
    "duration": 41,
    "start_time": "2025-02-19T15:01:38.904Z"
   },
   {
    "duration": 109,
    "start_time": "2025-02-19T15:02:22.208Z"
   },
   {
    "duration": 3,
    "start_time": "2025-02-19T15:03:21.098Z"
   },
   {
    "duration": 15,
    "start_time": "2025-02-19T15:03:21.464Z"
   },
   {
    "duration": 8,
    "start_time": "2025-02-19T15:03:22.006Z"
   },
   {
    "duration": 5,
    "start_time": "2025-02-19T15:03:22.163Z"
   },
   {
    "duration": 9,
    "start_time": "2025-02-19T15:03:23.104Z"
   },
   {
    "duration": 4,
    "start_time": "2025-02-19T15:03:24.125Z"
   },
   {
    "duration": 4,
    "start_time": "2025-02-19T15:03:25.033Z"
   },
   {
    "duration": 9,
    "start_time": "2025-02-19T15:03:27.032Z"
   },
   {
    "duration": 6,
    "start_time": "2025-02-19T15:03:27.737Z"
   },
   {
    "duration": 8,
    "start_time": "2025-02-19T15:03:28.266Z"
   },
   {
    "duration": 3,
    "start_time": "2025-02-19T15:03:28.420Z"
   },
   {
    "duration": 5,
    "start_time": "2025-02-19T15:03:28.604Z"
   },
   {
    "duration": 6,
    "start_time": "2025-02-19T15:03:29.312Z"
   },
   {
    "duration": 6,
    "start_time": "2025-02-19T15:03:29.472Z"
   },
   {
    "duration": 116,
    "start_time": "2025-02-19T15:03:29.677Z"
   },
   {
    "duration": 7,
    "start_time": "2025-02-19T15:03:30.203Z"
   },
   {
    "duration": 108,
    "start_time": "2025-02-19T15:03:30.460Z"
   },
   {
    "duration": 150,
    "start_time": "2025-02-19T15:03:30.922Z"
   },
   {
    "duration": 5,
    "start_time": "2025-02-19T15:03:32.014Z"
   },
   {
    "duration": 139,
    "start_time": "2025-02-19T15:03:32.381Z"
   },
   {
    "duration": 66,
    "start_time": "2025-02-19T15:03:32.749Z"
   },
   {
    "duration": 4,
    "start_time": "2025-02-19T15:07:45.527Z"
   },
   {
    "duration": 64,
    "start_time": "2025-02-19T15:07:55.837Z"
   },
   {
    "duration": 3,
    "start_time": "2025-02-19T15:08:57.304Z"
   },
   {
    "duration": 2,
    "start_time": "2025-02-19T15:09:01.010Z"
   },
   {
    "duration": 10,
    "start_time": "2025-02-19T15:09:01.363Z"
   },
   {
    "duration": 8,
    "start_time": "2025-02-19T15:09:01.901Z"
   },
   {
    "duration": 4,
    "start_time": "2025-02-19T15:09:02.064Z"
   },
   {
    "duration": 9,
    "start_time": "2025-02-19T15:09:02.589Z"
   },
   {
    "duration": 4,
    "start_time": "2025-02-19T15:09:02.753Z"
   },
   {
    "duration": 6,
    "start_time": "2025-02-19T15:09:02.942Z"
   },
   {
    "duration": 8,
    "start_time": "2025-02-19T15:09:03.131Z"
   },
   {
    "duration": 5,
    "start_time": "2025-02-19T15:09:03.321Z"
   },
   {
    "duration": 7,
    "start_time": "2025-02-19T15:09:03.886Z"
   },
   {
    "duration": 4,
    "start_time": "2025-02-19T15:09:04.067Z"
   },
   {
    "duration": 5,
    "start_time": "2025-02-19T15:09:04.243Z"
   },
   {
    "duration": 6,
    "start_time": "2025-02-19T15:09:05.011Z"
   },
   {
    "duration": 7,
    "start_time": "2025-02-19T15:09:05.876Z"
   },
   {
    "duration": 123,
    "start_time": "2025-02-19T15:09:06.134Z"
   },
   {
    "duration": 7,
    "start_time": "2025-02-19T15:09:06.744Z"
   },
   {
    "duration": 114,
    "start_time": "2025-02-19T15:09:06.927Z"
   },
   {
    "duration": 245,
    "start_time": "2025-02-19T15:09:07.507Z"
   },
   {
    "duration": 5,
    "start_time": "2025-02-19T15:09:09.172Z"
   },
   {
    "duration": 133,
    "start_time": "2025-02-19T15:09:10.204Z"
   },
   {
    "duration": 87,
    "start_time": "2025-02-19T15:09:11.481Z"
   },
   {
    "duration": 9,
    "start_time": "2025-02-19T15:09:33.348Z"
   },
   {
    "duration": 3,
    "start_time": "2025-02-19T15:09:49.489Z"
   },
   {
    "duration": 11,
    "start_time": "2025-02-19T15:09:49.843Z"
   },
   {
    "duration": 8,
    "start_time": "2025-02-19T15:09:50.372Z"
   },
   {
    "duration": 5,
    "start_time": "2025-02-19T15:09:50.531Z"
   },
   {
    "duration": 8,
    "start_time": "2025-02-19T15:09:51.133Z"
   },
   {
    "duration": 4,
    "start_time": "2025-02-19T15:09:52.120Z"
   },
   {
    "duration": 9,
    "start_time": "2025-02-19T15:09:52.915Z"
   },
   {
    "duration": 8,
    "start_time": "2025-02-19T15:09:54.415Z"
   },
   {
    "duration": 5,
    "start_time": "2025-02-19T15:09:56.290Z"
   },
   {
    "duration": 9,
    "start_time": "2025-02-19T15:09:56.868Z"
   },
   {
    "duration": 4,
    "start_time": "2025-02-19T15:09:57.044Z"
   },
   {
    "duration": 5,
    "start_time": "2025-02-19T15:09:57.253Z"
   },
   {
    "duration": 9,
    "start_time": "2025-02-19T15:09:58.029Z"
   },
   {
    "duration": 8,
    "start_time": "2025-02-19T15:09:58.208Z"
   },
   {
    "duration": 118,
    "start_time": "2025-02-19T15:09:58.391Z"
   },
   {
    "duration": 8,
    "start_time": "2025-02-19T15:09:59.372Z"
   },
   {
    "duration": 113,
    "start_time": "2025-02-19T15:09:59.822Z"
   },
   {
    "duration": 134,
    "start_time": "2025-02-19T15:10:01.694Z"
   },
   {
    "duration": 6,
    "start_time": "2025-02-19T15:10:03.331Z"
   },
   {
    "duration": 136,
    "start_time": "2025-02-19T15:10:04.187Z"
   },
   {
    "duration": 89,
    "start_time": "2025-02-19T15:10:05.852Z"
   },
   {
    "duration": 9,
    "start_time": "2025-02-19T15:10:07.174Z"
   },
   {
    "duration": 3,
    "start_time": "2025-02-19T15:11:12.050Z"
   },
   {
    "duration": 10,
    "start_time": "2025-02-19T15:11:12.402Z"
   },
   {
    "duration": 9,
    "start_time": "2025-02-19T15:11:12.891Z"
   },
   {
    "duration": 4,
    "start_time": "2025-02-19T15:11:13.059Z"
   },
   {
    "duration": 12,
    "start_time": "2025-02-19T15:11:13.571Z"
   },
   {
    "duration": 3,
    "start_time": "2025-02-19T15:11:13.746Z"
   },
   {
    "duration": 9,
    "start_time": "2025-02-19T15:11:13.924Z"
   },
   {
    "duration": 8,
    "start_time": "2025-02-19T15:11:14.107Z"
   },
   {
    "duration": 5,
    "start_time": "2025-02-19T15:11:14.290Z"
   },
   {
    "duration": 8,
    "start_time": "2025-02-19T15:11:14.835Z"
   },
   {
    "duration": 3,
    "start_time": "2025-02-19T15:11:15.019Z"
   },
   {
    "duration": 5,
    "start_time": "2025-02-19T15:11:15.235Z"
   },
   {
    "duration": 7,
    "start_time": "2025-02-19T15:11:15.979Z"
   },
   {
    "duration": 7,
    "start_time": "2025-02-19T15:11:16.167Z"
   },
   {
    "duration": 115,
    "start_time": "2025-02-19T15:11:16.347Z"
   },
   {
    "duration": 8,
    "start_time": "2025-02-19T15:11:16.905Z"
   },
   {
    "duration": 108,
    "start_time": "2025-02-19T15:11:17.099Z"
   },
   {
    "duration": 139,
    "start_time": "2025-02-19T15:11:17.897Z"
   },
   {
    "duration": 5,
    "start_time": "2025-02-19T15:11:19.315Z"
   },
   {
    "duration": 137,
    "start_time": "2025-02-19T15:11:19.938Z"
   },
   {
    "duration": 73,
    "start_time": "2025-02-19T15:11:20.372Z"
   },
   {
    "duration": 9,
    "start_time": "2025-02-19T15:11:20.627Z"
   },
   {
    "duration": 3,
    "start_time": "2025-02-19T15:13:11.228Z"
   },
   {
    "duration": 12,
    "start_time": "2025-02-19T15:13:11.573Z"
   },
   {
    "duration": 8,
    "start_time": "2025-02-19T15:13:12.314Z"
   },
   {
    "duration": 4,
    "start_time": "2025-02-19T15:13:12.545Z"
   },
   {
    "duration": 9,
    "start_time": "2025-02-19T15:13:14.117Z"
   },
   {
    "duration": 4,
    "start_time": "2025-02-19T15:13:14.512Z"
   },
   {
    "duration": 10,
    "start_time": "2025-02-19T15:13:15.083Z"
   },
   {
    "duration": 8,
    "start_time": "2025-02-19T15:13:15.322Z"
   },
   {
    "duration": 5,
    "start_time": "2025-02-19T15:13:15.774Z"
   },
   {
    "duration": 8,
    "start_time": "2025-02-19T15:13:16.587Z"
   },
   {
    "duration": 4,
    "start_time": "2025-02-19T15:13:17.002Z"
   },
   {
    "duration": 5,
    "start_time": "2025-02-19T15:13:17.370Z"
   },
   {
    "duration": 7,
    "start_time": "2025-02-19T15:13:18.932Z"
   },
   {
    "duration": 7,
    "start_time": "2025-02-19T15:13:19.254Z"
   },
   {
    "duration": 117,
    "start_time": "2025-02-19T15:13:19.629Z"
   },
   {
    "duration": 7,
    "start_time": "2025-02-19T15:13:20.432Z"
   },
   {
    "duration": 109,
    "start_time": "2025-02-19T15:13:20.678Z"
   },
   {
    "duration": 132,
    "start_time": "2025-02-19T15:13:21.267Z"
   },
   {
    "duration": 6,
    "start_time": "2025-02-19T15:13:22.727Z"
   },
   {
    "duration": 134,
    "start_time": "2025-02-19T15:13:23.150Z"
   },
   {
    "duration": 89,
    "start_time": "2025-02-19T15:13:23.585Z"
   },
   {
    "duration": 11,
    "start_time": "2025-02-19T15:13:23.803Z"
   },
   {
    "duration": 94,
    "start_time": "2025-02-19T15:18:42.358Z"
   },
   {
    "duration": 9,
    "start_time": "2025-02-19T15:18:43.250Z"
   },
   {
    "duration": 3,
    "start_time": "2025-02-19T15:29:01.112Z"
   },
   {
    "duration": 12,
    "start_time": "2025-02-19T15:29:01.374Z"
   },
   {
    "duration": 8,
    "start_time": "2025-02-19T15:29:01.919Z"
   },
   {
    "duration": 4,
    "start_time": "2025-02-19T15:29:02.049Z"
   },
   {
    "duration": 10,
    "start_time": "2025-02-19T15:29:02.573Z"
   },
   {
    "duration": 4,
    "start_time": "2025-02-19T15:29:02.750Z"
   },
   {
    "duration": 4,
    "start_time": "2025-02-19T15:29:02.935Z"
   },
   {
    "duration": 8,
    "start_time": "2025-02-19T15:29:03.096Z"
   },
   {
    "duration": 5,
    "start_time": "2025-02-19T15:29:03.280Z"
   },
   {
    "duration": 9,
    "start_time": "2025-02-19T15:29:03.807Z"
   },
   {
    "duration": 3,
    "start_time": "2025-02-19T15:29:03.986Z"
   },
   {
    "duration": 4,
    "start_time": "2025-02-19T15:29:04.156Z"
   },
   {
    "duration": 8,
    "start_time": "2025-02-19T15:29:08.208Z"
   },
   {
    "duration": 7,
    "start_time": "2025-02-19T15:29:08.363Z"
   },
   {
    "duration": 118,
    "start_time": "2025-02-19T15:29:08.529Z"
   },
   {
    "duration": 5,
    "start_time": "2025-02-19T15:29:41.259Z"
   },
   {
    "duration": 11,
    "start_time": "2025-02-19T15:29:41.585Z"
   },
   {
    "duration": 8,
    "start_time": "2025-02-19T15:29:42.160Z"
   },
   {
    "duration": 5,
    "start_time": "2025-02-19T15:29:42.359Z"
   },
   {
    "duration": 8,
    "start_time": "2025-02-19T15:29:42.829Z"
   },
   {
    "duration": 3,
    "start_time": "2025-02-19T15:29:43.012Z"
   },
   {
    "duration": 10,
    "start_time": "2025-02-19T15:29:43.169Z"
   },
   {
    "duration": 9,
    "start_time": "2025-02-19T15:29:43.355Z"
   },
   {
    "duration": 5,
    "start_time": "2025-02-19T15:29:43.536Z"
   },
   {
    "duration": 7,
    "start_time": "2025-02-19T15:29:44.116Z"
   },
   {
    "duration": 4,
    "start_time": "2025-02-19T15:29:44.305Z"
   },
   {
    "duration": 7,
    "start_time": "2025-02-19T15:29:44.495Z"
   },
   {
    "duration": 7,
    "start_time": "2025-02-19T15:29:45.253Z"
   },
   {
    "duration": 6,
    "start_time": "2025-02-19T15:29:45.448Z"
   },
   {
    "duration": 125,
    "start_time": "2025-02-19T15:29:45.624Z"
   },
   {
    "duration": 7,
    "start_time": "2025-02-19T15:29:46.184Z"
   },
   {
    "duration": 110,
    "start_time": "2025-02-19T15:29:46.371Z"
   },
   {
    "duration": 142,
    "start_time": "2025-02-19T15:29:47.025Z"
   },
   {
    "duration": 5,
    "start_time": "2025-02-19T15:29:49.232Z"
   },
   {
    "duration": 138,
    "start_time": "2025-02-19T15:29:50.657Z"
   },
   {
    "duration": 63,
    "start_time": "2025-02-19T15:29:51.826Z"
   },
   {
    "duration": 4,
    "start_time": "2025-02-19T15:30:36.976Z"
   },
   {
    "duration": 11,
    "start_time": "2025-02-19T15:30:37.296Z"
   },
   {
    "duration": 8,
    "start_time": "2025-02-19T15:30:37.810Z"
   },
   {
    "duration": 5,
    "start_time": "2025-02-19T15:30:37.983Z"
   },
   {
    "duration": 9,
    "start_time": "2025-02-19T15:30:38.498Z"
   },
   {
    "duration": 3,
    "start_time": "2025-02-19T15:30:38.664Z"
   },
   {
    "duration": 9,
    "start_time": "2025-02-19T15:30:38.839Z"
   },
   {
    "duration": 8,
    "start_time": "2025-02-19T15:30:39.024Z"
   },
   {
    "duration": 5,
    "start_time": "2025-02-19T15:30:39.217Z"
   },
   {
    "duration": 10,
    "start_time": "2025-02-19T15:30:39.770Z"
   },
   {
    "duration": 4,
    "start_time": "2025-02-19T15:30:39.969Z"
   },
   {
    "duration": 5,
    "start_time": "2025-02-19T15:30:40.143Z"
   },
   {
    "duration": 6,
    "start_time": "2025-02-19T15:30:40.949Z"
   },
   {
    "duration": 6,
    "start_time": "2025-02-19T15:30:41.146Z"
   },
   {
    "duration": 116,
    "start_time": "2025-02-19T15:30:41.385Z"
   },
   {
    "duration": 7,
    "start_time": "2025-02-19T15:30:42.714Z"
   },
   {
    "duration": 111,
    "start_time": "2025-02-19T15:30:43.036Z"
   },
   {
    "duration": 139,
    "start_time": "2025-02-19T15:30:43.803Z"
   },
   {
    "duration": 6,
    "start_time": "2025-02-19T15:30:45.109Z"
   },
   {
    "duration": 249,
    "start_time": "2025-02-19T15:30:46.023Z"
   },
   {
    "duration": 82,
    "start_time": "2025-02-19T15:30:46.930Z"
   },
   {
    "duration": 12,
    "start_time": "2025-02-19T15:34:44.111Z"
   },
   {
    "duration": 5,
    "start_time": "2025-02-19T15:34:49.509Z"
   },
   {
    "duration": 12,
    "start_time": "2025-02-19T15:34:49.945Z"
   },
   {
    "duration": 6,
    "start_time": "2025-02-19T15:36:43.842Z"
   },
   {
    "duration": 4,
    "start_time": "2025-02-19T15:40:23.751Z"
   },
   {
    "duration": 138,
    "start_time": "2025-02-19T15:40:24.381Z"
   },
   {
    "duration": 88,
    "start_time": "2025-02-19T15:40:25.616Z"
   },
   {
    "duration": 7,
    "start_time": "2025-02-19T15:40:26.000Z"
   },
   {
    "duration": 11,
    "start_time": "2025-02-19T15:40:26.276Z"
   },
   {
    "duration": 5,
    "start_time": "2025-02-19T15:40:48.760Z"
   },
   {
    "duration": 6,
    "start_time": "2025-02-19T15:41:32.376Z"
   },
   {
    "duration": 5,
    "start_time": "2025-02-19T15:41:47.737Z"
   },
   {
    "duration": 5,
    "start_time": "2025-02-19T15:47:37.124Z"
   },
   {
    "duration": 6,
    "start_time": "2025-02-19T15:49:59.436Z"
   },
   {
    "duration": 6,
    "start_time": "2025-02-19T16:08:58.087Z"
   },
   {
    "duration": 130,
    "start_time": "2025-02-19T16:10:23.953Z"
   },
   {
    "duration": 126,
    "start_time": "2025-02-19T16:10:38.801Z"
   },
   {
    "duration": 129,
    "start_time": "2025-02-19T16:13:08.818Z"
   },
   {
    "duration": 137,
    "start_time": "2025-02-19T16:14:26.253Z"
   },
   {
    "duration": 136,
    "start_time": "2025-02-19T16:14:56.653Z"
   },
   {
    "duration": 134,
    "start_time": "2025-02-19T16:30:38.069Z"
   },
   {
    "duration": 131,
    "start_time": "2025-02-19T16:30:49.497Z"
   },
   {
    "duration": 131,
    "start_time": "2025-02-19T16:35:54.408Z"
   },
   {
    "duration": 164,
    "start_time": "2025-02-19T16:38:20.435Z"
   },
   {
    "duration": 137,
    "start_time": "2025-02-19T16:39:07.289Z"
   },
   {
    "duration": 143,
    "start_time": "2025-02-19T16:39:19.395Z"
   },
   {
    "duration": 6,
    "start_time": "2025-02-19T17:11:38.148Z"
   },
   {
    "duration": 11,
    "start_time": "2025-02-19T17:11:44.895Z"
   },
   {
    "duration": 5,
    "start_time": "2025-02-19T17:13:10.994Z"
   },
   {
    "duration": 5,
    "start_time": "2025-02-19T17:13:32.066Z"
   },
   {
    "duration": 229,
    "start_time": "2025-02-19T17:14:35.459Z"
   },
   {
    "duration": 219,
    "start_time": "2025-02-19T17:14:51.762Z"
   },
   {
    "duration": 4,
    "start_time": "2025-02-19T17:41:09.474Z"
   },
   {
    "duration": 8,
    "start_time": "2025-02-19T17:41:15.629Z"
   },
   {
    "duration": 6,
    "start_time": "2025-02-19T17:41:54.532Z"
   },
   {
    "duration": 5,
    "start_time": "2025-02-19T17:45:24.931Z"
   },
   {
    "duration": 140,
    "start_time": "2025-02-19T17:46:23.182Z"
   },
   {
    "duration": 906,
    "start_time": "2025-02-19T17:48:01.102Z"
   },
   {
    "duration": 190,
    "start_time": "2025-02-19T17:48:35.516Z"
   },
   {
    "duration": 123,
    "start_time": "2025-02-19T17:49:46.311Z"
   },
   {
    "duration": 129,
    "start_time": "2025-02-19T17:50:59.984Z"
   },
   {
    "duration": 128,
    "start_time": "2025-02-19T17:51:05.908Z"
   },
   {
    "duration": 193,
    "start_time": "2025-02-19T17:52:14.305Z"
   },
   {
    "duration": 216,
    "start_time": "2025-02-19T17:53:17.676Z"
   },
   {
    "duration": 213,
    "start_time": "2025-02-19T17:53:28.290Z"
   },
   {
    "duration": 147,
    "start_time": "2025-02-19T17:55:28.109Z"
   },
   {
    "duration": 824,
    "start_time": "2025-02-19T18:01:46.883Z"
   },
   {
    "duration": 16,
    "start_time": "2025-02-19T18:01:47.709Z"
   },
   {
    "duration": 10,
    "start_time": "2025-02-19T18:01:48.785Z"
   },
   {
    "duration": 5,
    "start_time": "2025-02-19T18:01:49.695Z"
   },
   {
    "duration": 9,
    "start_time": "2025-02-19T18:01:50.863Z"
   },
   {
    "duration": 3,
    "start_time": "2025-02-19T18:01:51.411Z"
   },
   {
    "duration": 10,
    "start_time": "2025-02-19T18:01:51.684Z"
   },
   {
    "duration": 9,
    "start_time": "2025-02-19T18:01:51.924Z"
   },
   {
    "duration": 6,
    "start_time": "2025-02-19T18:01:52.335Z"
   },
   {
    "duration": 10,
    "start_time": "2025-02-19T18:01:53.142Z"
   },
   {
    "duration": 4,
    "start_time": "2025-02-19T18:01:53.376Z"
   },
   {
    "duration": 5,
    "start_time": "2025-02-19T18:01:53.595Z"
   },
   {
    "duration": 8,
    "start_time": "2025-02-19T18:01:54.479Z"
   },
   {
    "duration": 7,
    "start_time": "2025-02-19T18:01:54.663Z"
   },
   {
    "duration": 129,
    "start_time": "2025-02-19T18:01:54.888Z"
   },
   {
    "duration": 7,
    "start_time": "2025-02-19T18:01:56.286Z"
   },
   {
    "duration": 132,
    "start_time": "2025-02-19T18:01:56.528Z"
   },
   {
    "duration": 192,
    "start_time": "2025-02-19T18:01:57.102Z"
   },
   {
    "duration": 5,
    "start_time": "2025-02-19T18:01:58.288Z"
   },
   {
    "duration": 152,
    "start_time": "2025-02-19T18:01:58.689Z"
   },
   {
    "duration": 89,
    "start_time": "2025-02-19T18:01:59.125Z"
   },
   {
    "duration": 5,
    "start_time": "2025-02-19T18:01:59.533Z"
   },
   {
    "duration": 5,
    "start_time": "2025-02-19T18:01:59.730Z"
   },
   {
    "duration": 6,
    "start_time": "2025-02-19T18:01:59.906Z"
   },
   {
    "duration": 5,
    "start_time": "2025-02-19T18:02:00.970Z"
   },
   {
    "duration": 140,
    "start_time": "2025-02-19T18:02:00.978Z"
   },
   {
    "duration": 158,
    "start_time": "2025-02-19T18:02:01.905Z"
   },
   {
    "duration": 6,
    "start_time": "2025-02-19T18:02:03.174Z"
   },
   {
    "duration": 5,
    "start_time": "2025-02-19T18:02:03.438Z"
   },
   {
    "duration": 227,
    "start_time": "2025-02-19T18:02:03.773Z"
   },
   {
    "duration": 3,
    "start_time": "2025-02-19T18:02:04.906Z"
   },
   {
    "duration": 6,
    "start_time": "2025-02-19T18:02:05.176Z"
   },
   {
    "duration": 4,
    "start_time": "2025-02-19T18:02:05.635Z"
   },
   {
    "duration": 146,
    "start_time": "2025-02-19T18:02:06.047Z"
   },
   {
    "duration": 190,
    "start_time": "2025-02-19T18:05:28.266Z"
   },
   {
    "duration": 136,
    "start_time": "2025-02-19T18:05:40.209Z"
   },
   {
    "duration": 155,
    "start_time": "2025-02-19T18:11:49.305Z"
   },
   {
    "duration": 146,
    "start_time": "2025-02-19T18:11:53.804Z"
   },
   {
    "duration": 142,
    "start_time": "2025-02-19T18:12:01.050Z"
   },
   {
    "duration": 3,
    "start_time": "2025-02-19T18:19:35.782Z"
   },
   {
    "duration": 2696,
    "start_time": "2025-02-19T19:07:22.470Z"
   },
   {
    "duration": 17,
    "start_time": "2025-02-19T19:07:25.168Z"
   },
   {
    "duration": 10,
    "start_time": "2025-02-19T19:07:25.187Z"
   },
   {
    "duration": 5,
    "start_time": "2025-02-19T19:07:25.199Z"
   },
   {
    "duration": 9,
    "start_time": "2025-02-19T19:07:27.263Z"
   },
   {
    "duration": 3,
    "start_time": "2025-02-19T19:07:28.275Z"
   },
   {
    "duration": 10,
    "start_time": "2025-02-19T19:07:28.516Z"
   },
   {
    "duration": 8,
    "start_time": "2025-02-19T19:07:28.784Z"
   },
   {
    "duration": 6,
    "start_time": "2025-02-19T19:07:29.031Z"
   },
   {
    "duration": 9,
    "start_time": "2025-02-19T19:07:29.945Z"
   },
   {
    "duration": 6,
    "start_time": "2025-02-19T19:07:30.343Z"
   },
   {
    "duration": 5,
    "start_time": "2025-02-19T19:07:30.950Z"
   },
   {
    "duration": 13,
    "start_time": "2025-02-19T19:07:34.968Z"
   },
   {
    "duration": 12,
    "start_time": "2025-02-19T19:07:35.351Z"
   },
   {
    "duration": 199,
    "start_time": "2025-02-19T19:07:35.883Z"
   },
   {
    "duration": 9,
    "start_time": "2025-02-19T19:07:37.481Z"
   },
   {
    "duration": 143,
    "start_time": "2025-02-19T19:07:37.742Z"
   },
   {
    "duration": 178,
    "start_time": "2025-02-19T19:07:38.681Z"
   },
   {
    "duration": 9,
    "start_time": "2025-02-19T19:07:40.667Z"
   },
   {
    "duration": 232,
    "start_time": "2025-02-19T19:07:41.205Z"
   },
   {
    "duration": 164,
    "start_time": "2025-02-19T19:07:41.875Z"
   },
   {
    "duration": 11,
    "start_time": "2025-02-19T19:07:42.403Z"
   },
   {
    "duration": 13,
    "start_time": "2025-02-19T19:07:42.594Z"
   },
   {
    "duration": 9,
    "start_time": "2025-02-19T19:07:43.695Z"
   },
   {
    "duration": 13,
    "start_time": "2025-02-19T19:07:45.628Z"
   },
   {
    "duration": 212,
    "start_time": "2025-02-19T19:07:45.975Z"
   },
   {
    "duration": 239,
    "start_time": "2025-02-19T19:07:47.956Z"
   },
   {
    "duration": 7,
    "start_time": "2025-02-19T19:07:49.391Z"
   },
   {
    "duration": 26,
    "start_time": "2025-02-19T19:07:49.739Z"
   },
   {
    "duration": 319,
    "start_time": "2025-02-19T19:07:50.122Z"
   },
   {
    "duration": 12,
    "start_time": "2025-02-19T19:07:57.822Z"
   },
   {
    "duration": 12,
    "start_time": "2025-02-19T19:07:58.259Z"
   },
   {
    "duration": 15,
    "start_time": "2025-02-19T19:07:59.653Z"
   },
   {
    "duration": 208,
    "start_time": "2025-02-19T19:08:00.720Z"
   },
   {
    "duration": 375,
    "start_time": "2025-02-19T19:23:47.864Z"
   },
   {
    "duration": 11,
    "start_time": "2025-02-19T19:23:51.948Z"
   },
   {
    "duration": 17,
    "start_time": "2025-02-19T19:23:52.131Z"
   },
   {
    "duration": 3,
    "start_time": "2025-02-19T19:23:58.575Z"
   },
   {
    "duration": 13,
    "start_time": "2025-02-19T19:23:58.980Z"
   },
   {
    "duration": 10,
    "start_time": "2025-02-19T19:23:59.921Z"
   },
   {
    "duration": 4,
    "start_time": "2025-02-19T19:24:00.619Z"
   },
   {
    "duration": 14,
    "start_time": "2025-02-19T19:24:01.166Z"
   },
   {
    "duration": 4,
    "start_time": "2025-02-19T19:24:01.342Z"
   },
   {
    "duration": 10,
    "start_time": "2025-02-19T19:24:01.517Z"
   },
   {
    "duration": 10,
    "start_time": "2025-02-19T19:24:01.706Z"
   },
   {
    "duration": 6,
    "start_time": "2025-02-19T19:24:01.903Z"
   },
   {
    "duration": 9,
    "start_time": "2025-02-19T19:24:02.480Z"
   },
   {
    "duration": 5,
    "start_time": "2025-02-19T19:24:02.686Z"
   },
   {
    "duration": 7,
    "start_time": "2025-02-19T19:24:02.882Z"
   },
   {
    "duration": 8,
    "start_time": "2025-02-19T19:24:03.611Z"
   },
   {
    "duration": 8,
    "start_time": "2025-02-19T19:24:03.789Z"
   },
   {
    "duration": 132,
    "start_time": "2025-02-19T19:24:03.976Z"
   },
   {
    "duration": 7,
    "start_time": "2025-02-19T19:24:04.536Z"
   },
   {
    "duration": 142,
    "start_time": "2025-02-19T19:24:04.741Z"
   },
   {
    "duration": 158,
    "start_time": "2025-02-19T19:24:05.308Z"
   },
   {
    "duration": 6,
    "start_time": "2025-02-19T19:24:06.554Z"
   },
   {
    "duration": 189,
    "start_time": "2025-02-19T19:24:06.926Z"
   },
   {
    "duration": 100,
    "start_time": "2025-02-19T19:24:07.279Z"
   },
   {
    "duration": 7,
    "start_time": "2025-02-19T19:24:07.669Z"
   },
   {
    "duration": 7,
    "start_time": "2025-02-19T19:24:07.875Z"
   },
   {
    "duration": 7,
    "start_time": "2025-02-19T19:24:08.048Z"
   },
   {
    "duration": 7,
    "start_time": "2025-02-19T19:24:08.468Z"
   },
   {
    "duration": 165,
    "start_time": "2025-02-19T19:24:08.658Z"
   },
   {
    "duration": 157,
    "start_time": "2025-02-19T19:24:09.530Z"
   },
   {
    "duration": 6,
    "start_time": "2025-02-19T19:24:10.326Z"
   },
   {
    "duration": 6,
    "start_time": "2025-02-19T19:24:10.516Z"
   },
   {
    "duration": 257,
    "start_time": "2025-02-19T19:24:10.739Z"
   },
   {
    "duration": 3,
    "start_time": "2025-02-19T19:24:12.077Z"
   },
   {
    "duration": 6,
    "start_time": "2025-02-19T19:24:12.284Z"
   },
   {
    "duration": 5,
    "start_time": "2025-02-19T19:24:13.000Z"
   },
   {
    "duration": 151,
    "start_time": "2025-02-19T19:24:13.276Z"
   },
   {
    "duration": 4,
    "start_time": "2025-02-19T19:24:15.364Z"
   },
   {
    "duration": 20,
    "start_time": "2025-02-19T19:24:16.205Z"
   },
   {
    "duration": 140,
    "start_time": "2025-02-19T19:24:36.692Z"
   },
   {
    "duration": 12,
    "start_time": "2025-02-19T19:24:37.958Z"
   },
   {
    "duration": 116,
    "start_time": "2025-02-19T19:25:23.553Z"
   },
   {
    "duration": 3,
    "start_time": "2025-02-19T19:25:24.819Z"
   },
   {
    "duration": 6,
    "start_time": "2025-02-19T19:25:37.345Z"
   },
   {
    "duration": 6,
    "start_time": "2025-02-19T19:25:46.892Z"
   },
   {
    "duration": 8,
    "start_time": "2025-02-19T19:26:28.461Z"
   },
   {
    "duration": 6,
    "start_time": "2025-02-19T19:26:50.263Z"
   },
   {
    "duration": 115,
    "start_time": "2025-02-19T19:27:42.882Z"
   },
   {
    "duration": 222,
    "start_time": "2025-02-19T19:28:37.757Z"
   },
   {
    "duration": 5,
    "start_time": "2025-02-19T19:29:42.380Z"
   },
   {
    "duration": 5,
    "start_time": "2025-02-19T19:29:48.327Z"
   },
   {
    "duration": 4,
    "start_time": "2025-02-19T19:29:53.921Z"
   },
   {
    "duration": 4,
    "start_time": "2025-02-19T19:29:57.565Z"
   },
   {
    "duration": 19,
    "start_time": "2025-02-19T19:30:04.567Z"
   },
   {
    "duration": 140,
    "start_time": "2025-02-19T19:30:23.005Z"
   },
   {
    "duration": 7,
    "start_time": "2025-02-19T19:30:24.007Z"
   },
   {
    "duration": 6,
    "start_time": "2025-02-19T19:30:24.210Z"
   },
   {
    "duration": 99,
    "start_time": "2025-02-19T19:30:34.509Z"
   },
   {
    "duration": 125,
    "start_time": "2025-02-19T19:32:16.572Z"
   },
   {
    "duration": 8,
    "start_time": "2025-02-19T19:32:20.989Z"
   },
   {
    "duration": 102,
    "start_time": "2025-02-19T19:33:02.934Z"
   },
   {
    "duration": 136,
    "start_time": "2025-02-19T19:34:13.859Z"
   },
   {
    "duration": 9,
    "start_time": "2025-02-19T19:34:15.918Z"
   },
   {
    "duration": 114,
    "start_time": "2025-02-19T19:34:17.636Z"
   },
   {
    "duration": 120,
    "start_time": "2025-02-19T19:35:45.411Z"
   },
   {
    "duration": 151,
    "start_time": "2025-02-19T19:48:44.529Z"
   },
   {
    "duration": 122,
    "start_time": "2025-02-19T19:49:23.652Z"
   },
   {
    "duration": 5,
    "start_time": "2025-02-19T19:49:25.031Z"
   },
   {
    "duration": 5,
    "start_time": "2025-02-19T19:49:38.587Z"
   },
   {
    "duration": 155,
    "start_time": "2025-02-19T19:49:47.673Z"
   },
   {
    "duration": 10,
    "start_time": "2025-02-19T19:54:15.700Z"
   },
   {
    "duration": 6,
    "start_time": "2025-02-19T20:08:41.620Z"
   },
   {
    "duration": 118,
    "start_time": "2025-02-19T20:08:43.577Z"
   },
   {
    "duration": 4,
    "start_time": "2025-02-19T20:18:35.850Z"
   },
   {
    "duration": 5,
    "start_time": "2025-02-19T20:37:01.464Z"
   },
   {
    "duration": 4,
    "start_time": "2025-02-19T20:37:13.590Z"
   },
   {
    "duration": 5,
    "start_time": "2025-02-19T20:40:53.271Z"
   },
   {
    "duration": 4,
    "start_time": "2025-02-19T20:40:58.912Z"
   },
   {
    "duration": 4,
    "start_time": "2025-02-19T20:41:08.664Z"
   },
   {
    "duration": 6,
    "start_time": "2025-02-19T20:44:18.654Z"
   },
   {
    "duration": 120,
    "start_time": "2025-02-19T20:45:13.550Z"
   },
   {
    "duration": 10,
    "start_time": "2025-02-19T20:46:44.230Z"
   },
   {
    "duration": 111,
    "start_time": "2025-02-19T20:47:13.306Z"
   },
   {
    "duration": 138,
    "start_time": "2025-02-19T20:54:45.458Z"
   },
   {
    "duration": 137,
    "start_time": "2025-02-19T20:55:17.190Z"
   },
   {
    "duration": 7,
    "start_time": "2025-02-19T20:58:05.863Z"
   },
   {
    "duration": 7,
    "start_time": "2025-02-19T21:01:23.915Z"
   },
   {
    "duration": 151,
    "start_time": "2025-02-19T21:01:37.157Z"
   },
   {
    "duration": 5,
    "start_time": "2025-02-19T21:05:16.749Z"
   },
   {
    "duration": 6,
    "start_time": "2025-02-19T21:06:07.730Z"
   },
   {
    "duration": 122,
    "start_time": "2025-02-19T21:06:08.548Z"
   },
   {
    "duration": 5,
    "start_time": "2025-02-19T21:06:27.001Z"
   },
   {
    "duration": 7,
    "start_time": "2025-02-19T21:11:11.033Z"
   },
   {
    "duration": 7,
    "start_time": "2025-02-19T21:11:19.804Z"
   },
   {
    "duration": 7,
    "start_time": "2025-02-19T21:11:27.788Z"
   },
   {
    "duration": 11,
    "start_time": "2025-02-19T21:11:33.037Z"
   },
   {
    "duration": 7,
    "start_time": "2025-02-19T21:11:50.372Z"
   },
   {
    "duration": 23,
    "start_time": "2025-02-19T21:18:00.717Z"
   },
   {
    "duration": 4,
    "start_time": "2025-02-19T21:18:06.735Z"
   },
   {
    "duration": 9,
    "start_time": "2025-02-19T21:19:52.819Z"
   },
   {
    "duration": 7,
    "start_time": "2025-02-19T21:20:02.288Z"
   },
   {
    "duration": 686,
    "start_time": "2025-02-19T22:02:52.776Z"
   },
   {
    "duration": 102,
    "start_time": "2025-02-19T22:03:43.088Z"
   },
   {
    "duration": 131,
    "start_time": "2025-02-19T22:04:12.126Z"
   },
   {
    "duration": 91,
    "start_time": "2025-02-19T22:04:17.109Z"
   },
   {
    "duration": 139,
    "start_time": "2025-02-19T22:04:24.496Z"
   },
   {
    "duration": 9,
    "start_time": "2025-02-19T22:04:30.828Z"
   },
   {
    "duration": 3,
    "start_time": "2025-02-19T22:04:50.883Z"
   },
   {
    "duration": 16,
    "start_time": "2025-02-19T22:04:51.247Z"
   },
   {
    "duration": 12,
    "start_time": "2025-02-19T22:04:51.797Z"
   },
   {
    "duration": 6,
    "start_time": "2025-02-19T22:04:52.046Z"
   },
   {
    "duration": 13,
    "start_time": "2025-02-19T22:04:53.300Z"
   },
   {
    "duration": 4,
    "start_time": "2025-02-19T22:04:53.612Z"
   },
   {
    "duration": 12,
    "start_time": "2025-02-19T22:04:53.973Z"
   },
   {
    "duration": 10,
    "start_time": "2025-02-19T22:04:54.440Z"
   },
   {
    "duration": 7,
    "start_time": "2025-02-19T22:04:54.639Z"
   },
   {
    "duration": 10,
    "start_time": "2025-02-19T22:04:55.427Z"
   },
   {
    "duration": 5,
    "start_time": "2025-02-19T22:04:55.920Z"
   },
   {
    "duration": 6,
    "start_time": "2025-02-19T22:04:56.145Z"
   },
   {
    "duration": 7,
    "start_time": "2025-02-19T22:04:57.291Z"
   },
   {
    "duration": 7,
    "start_time": "2025-02-19T22:04:57.483Z"
   },
   {
    "duration": 155,
    "start_time": "2025-02-19T22:04:57.807Z"
   },
   {
    "duration": 10,
    "start_time": "2025-02-19T22:04:58.867Z"
   },
   {
    "duration": 138,
    "start_time": "2025-02-19T22:04:59.191Z"
   },
   {
    "duration": 298,
    "start_time": "2025-02-19T22:05:00.218Z"
   },
   {
    "duration": 7,
    "start_time": "2025-02-19T22:05:01.872Z"
   },
   {
    "duration": 188,
    "start_time": "2025-02-19T22:05:02.286Z"
   },
   {
    "duration": 126,
    "start_time": "2025-02-19T22:05:03.743Z"
   },
   {
    "duration": 10,
    "start_time": "2025-02-19T22:05:05.503Z"
   },
   {
    "duration": 5,
    "start_time": "2025-02-19T22:05:06.251Z"
   },
   {
    "duration": 7,
    "start_time": "2025-02-19T22:05:06.869Z"
   },
   {
    "duration": 7,
    "start_time": "2025-02-19T22:05:07.328Z"
   },
   {
    "duration": 211,
    "start_time": "2025-02-19T22:05:07.515Z"
   },
   {
    "duration": 173,
    "start_time": "2025-02-19T22:05:08.297Z"
   },
   {
    "duration": 7,
    "start_time": "2025-02-19T22:05:09.460Z"
   },
   {
    "duration": 9,
    "start_time": "2025-02-19T22:05:09.668Z"
   },
   {
    "duration": 244,
    "start_time": "2025-02-19T22:05:09.869Z"
   },
   {
    "duration": 6,
    "start_time": "2025-02-19T22:05:11.008Z"
   },
   {
    "duration": 8,
    "start_time": "2025-02-19T22:05:11.225Z"
   },
   {
    "duration": 5,
    "start_time": "2025-02-19T22:05:11.638Z"
   },
   {
    "duration": 165,
    "start_time": "2025-02-19T22:05:11.801Z"
   },
   {
    "duration": 129,
    "start_time": "2025-02-19T22:05:12.578Z"
   },
   {
    "duration": 8,
    "start_time": "2025-02-19T22:05:12.803Z"
   },
   {
    "duration": 121,
    "start_time": "2025-02-19T22:05:13.535Z"
   },
   {
    "duration": 4,
    "start_time": "2025-02-19T22:05:15.283Z"
   },
   {
    "duration": 8,
    "start_time": "2025-02-19T22:05:17.059Z"
   },
   {
    "duration": 137,
    "start_time": "2025-02-19T22:05:17.866Z"
   },
   {
    "duration": 5,
    "start_time": "2025-02-19T22:05:20.269Z"
   },
   {
    "duration": 156,
    "start_time": "2025-02-19T22:05:22.089Z"
   },
   {
    "duration": 9,
    "start_time": "2025-02-19T22:05:22.852Z"
   },
   {
    "duration": 127,
    "start_time": "2025-02-19T22:06:07.872Z"
   },
   {
    "duration": 10,
    "start_time": "2025-02-19T22:06:09.438Z"
   },
   {
    "duration": 133,
    "start_time": "2025-02-19T22:06:14.765Z"
   },
   {
    "duration": 8,
    "start_time": "2025-02-19T22:06:16.321Z"
   },
   {
    "duration": 7,
    "start_time": "2025-02-19T22:06:43.509Z"
   },
   {
    "duration": 18,
    "start_time": "2025-02-19T22:07:55.397Z"
   },
   {
    "duration": 127,
    "start_time": "2025-02-19T22:08:21.205Z"
   },
   {
    "duration": 4,
    "start_time": "2025-02-19T22:08:21.977Z"
   },
   {
    "duration": 14,
    "start_time": "2025-02-19T22:08:23.051Z"
   },
   {
    "duration": 6,
    "start_time": "2025-02-19T22:09:48.734Z"
   },
   {
    "duration": 9,
    "start_time": "2025-02-19T22:10:03.690Z"
   },
   {
    "duration": 8,
    "start_time": "2025-02-19T22:11:28.906Z"
   },
   {
    "duration": 5,
    "start_time": "2025-02-19T22:12:01.919Z"
   },
   {
    "duration": 4,
    "start_time": "2025-02-19T22:12:05.434Z"
   },
   {
    "duration": 9,
    "start_time": "2025-02-19T22:12:39.957Z"
   },
   {
    "duration": 7,
    "start_time": "2025-02-19T22:12:40.789Z"
   },
   {
    "duration": 17,
    "start_time": "2025-02-19T22:13:06.935Z"
   },
   {
    "duration": 4,
    "start_time": "2025-02-19T22:13:44.595Z"
   },
   {
    "duration": 15,
    "start_time": "2025-02-19T22:13:44.964Z"
   },
   {
    "duration": 11,
    "start_time": "2025-02-19T22:13:45.501Z"
   },
   {
    "duration": 6,
    "start_time": "2025-02-19T22:13:45.659Z"
   },
   {
    "duration": 12,
    "start_time": "2025-02-19T22:13:46.445Z"
   },
   {
    "duration": 4,
    "start_time": "2025-02-19T22:13:46.607Z"
   },
   {
    "duration": 10,
    "start_time": "2025-02-19T22:13:46.814Z"
   },
   {
    "duration": 13,
    "start_time": "2025-02-19T22:13:47.019Z"
   },
   {
    "duration": 8,
    "start_time": "2025-02-19T22:13:47.247Z"
   },
   {
    "duration": 11,
    "start_time": "2025-02-19T22:13:47.904Z"
   },
   {
    "duration": 5,
    "start_time": "2025-02-19T22:13:48.093Z"
   },
   {
    "duration": 6,
    "start_time": "2025-02-19T22:13:48.281Z"
   },
   {
    "duration": 7,
    "start_time": "2025-02-19T22:13:49.066Z"
   },
   {
    "duration": 13,
    "start_time": "2025-02-19T22:13:49.251Z"
   },
   {
    "duration": 143,
    "start_time": "2025-02-19T22:13:49.457Z"
   },
   {
    "duration": 10,
    "start_time": "2025-02-19T22:13:50.061Z"
   },
   {
    "duration": 169,
    "start_time": "2025-02-19T22:13:50.258Z"
   },
   {
    "duration": 170,
    "start_time": "2025-02-19T22:13:50.819Z"
   },
   {
    "duration": 7,
    "start_time": "2025-02-19T22:13:52.019Z"
   },
   {
    "duration": 222,
    "start_time": "2025-02-19T22:13:52.416Z"
   },
   {
    "duration": 136,
    "start_time": "2025-02-19T22:13:52.830Z"
   },
   {
    "duration": 8,
    "start_time": "2025-02-19T22:13:53.233Z"
   },
   {
    "duration": 7,
    "start_time": "2025-02-19T22:13:53.442Z"
   },
   {
    "duration": 7,
    "start_time": "2025-02-19T22:13:53.655Z"
   },
   {
    "duration": 7,
    "start_time": "2025-02-19T22:13:54.411Z"
   },
   {
    "duration": 190,
    "start_time": "2025-02-19T22:13:54.620Z"
   },
   {
    "duration": 190,
    "start_time": "2025-02-19T22:13:55.458Z"
   },
   {
    "duration": 7,
    "start_time": "2025-02-19T22:13:56.260Z"
   },
   {
    "duration": 6,
    "start_time": "2025-02-19T22:13:56.475Z"
   },
   {
    "duration": 263,
    "start_time": "2025-02-19T22:13:56.680Z"
   },
   {
    "duration": 7,
    "start_time": "2025-02-19T22:13:57.541Z"
   },
   {
    "duration": 10,
    "start_time": "2025-02-19T22:13:57.816Z"
   },
   {
    "duration": 7,
    "start_time": "2025-02-19T22:13:58.509Z"
   },
   {
    "duration": 179,
    "start_time": "2025-02-19T22:13:58.667Z"
   },
   {
    "duration": 140,
    "start_time": "2025-02-19T22:13:59.929Z"
   },
   {
    "duration": 7,
    "start_time": "2025-02-19T22:14:00.161Z"
   },
   {
    "duration": 185,
    "start_time": "2025-02-19T22:14:00.549Z"
   },
   {
    "duration": 6,
    "start_time": "2025-02-19T22:14:01.554Z"
   },
   {
    "duration": 7,
    "start_time": "2025-02-19T22:14:02.957Z"
   },
   {
    "duration": 193,
    "start_time": "2025-02-19T22:14:03.291Z"
   },
   {
    "duration": 7,
    "start_time": "2025-02-19T22:14:05.372Z"
   },
   {
    "duration": 161,
    "start_time": "2025-02-19T22:14:06.463Z"
   },
   {
    "duration": 6,
    "start_time": "2025-02-19T22:14:06.741Z"
   },
   {
    "duration": 6,
    "start_time": "2025-02-19T22:14:06.986Z"
   },
   {
    "duration": 7,
    "start_time": "2025-02-19T22:14:07.212Z"
   },
   {
    "duration": 18,
    "start_time": "2025-02-19T22:14:07.546Z"
   },
   {
    "duration": 6,
    "start_time": "2025-02-19T22:14:52.939Z"
   },
   {
    "duration": 6,
    "start_time": "2025-02-19T22:14:56.466Z"
   },
   {
    "duration": 5,
    "start_time": "2025-02-19T22:29:16.234Z"
   },
   {
    "duration": 5,
    "start_time": "2025-02-19T22:29:16.496Z"
   },
   {
    "duration": 17,
    "start_time": "2025-02-19T22:29:16.720Z"
   },
   {
    "duration": 6,
    "start_time": "2025-02-19T22:33:20.804Z"
   },
   {
    "duration": 6,
    "start_time": "2025-02-19T22:33:23.532Z"
   },
   {
    "duration": 5,
    "start_time": "2025-02-19T22:33:23.838Z"
   },
   {
    "duration": 31,
    "start_time": "2025-02-19T22:33:24.208Z"
   },
   {
    "duration": 5,
    "start_time": "2025-02-19T22:33:33.740Z"
   },
   {
    "duration": 7,
    "start_time": "2025-02-19T22:33:33.928Z"
   },
   {
    "duration": 18,
    "start_time": "2025-02-19T22:33:34.789Z"
   },
   {
    "duration": 5,
    "start_time": "2025-02-19T22:35:48.774Z"
   },
   {
    "duration": 5,
    "start_time": "2025-02-19T22:35:49.029Z"
   },
   {
    "duration": 16,
    "start_time": "2025-02-19T22:35:49.238Z"
   },
   {
    "duration": 18,
    "start_time": "2025-02-19T22:41:51.735Z"
   },
   {
    "duration": 9,
    "start_time": "2025-02-19T22:51:02.772Z"
   },
   {
    "duration": 4,
    "start_time": "2025-02-19T23:04:33.826Z"
   },
   {
    "duration": 6,
    "start_time": "2025-02-19T23:04:38.010Z"
   },
   {
    "duration": 6,
    "start_time": "2025-02-19T23:04:44.929Z"
   },
   {
    "duration": 6,
    "start_time": "2025-02-19T23:13:55.848Z"
   },
   {
    "duration": 3,
    "start_time": "2025-02-19T23:14:32.144Z"
   },
   {
    "duration": 466,
    "start_time": "2025-02-19T23:17:16.548Z"
   },
   {
    "duration": 92,
    "start_time": "2025-02-19T23:17:46.358Z"
   },
   {
    "duration": 11,
    "start_time": "2025-02-19T23:18:35.738Z"
   },
   {
    "duration": 10,
    "start_time": "2025-02-19T23:18:40.373Z"
   },
   {
    "duration": 9,
    "start_time": "2025-02-19T23:19:38.997Z"
   },
   {
    "duration": 73,
    "start_time": "2025-02-19T23:20:05.451Z"
   },
   {
    "duration": 3,
    "start_time": "2025-02-19T23:20:14.537Z"
   },
   {
    "duration": 11,
    "start_time": "2025-02-19T23:20:15.001Z"
   },
   {
    "duration": 8,
    "start_time": "2025-02-19T23:20:16.316Z"
   },
   {
    "duration": 5,
    "start_time": "2025-02-19T23:20:16.547Z"
   },
   {
    "duration": 10,
    "start_time": "2025-02-19T23:20:17.256Z"
   },
   {
    "duration": 5,
    "start_time": "2025-02-19T23:20:17.514Z"
   },
   {
    "duration": 9,
    "start_time": "2025-02-19T23:20:17.729Z"
   },
   {
    "duration": 15,
    "start_time": "2025-02-19T23:20:17.974Z"
   },
   {
    "duration": 7,
    "start_time": "2025-02-19T23:20:18.192Z"
   },
   {
    "duration": 14,
    "start_time": "2025-02-19T23:20:18.774Z"
   },
   {
    "duration": 4,
    "start_time": "2025-02-19T23:20:18.961Z"
   },
   {
    "duration": 5,
    "start_time": "2025-02-19T23:20:19.151Z"
   },
   {
    "duration": 8,
    "start_time": "2025-02-19T23:20:19.968Z"
   },
   {
    "duration": 9,
    "start_time": "2025-02-19T23:20:20.182Z"
   },
   {
    "duration": 123,
    "start_time": "2025-02-19T23:20:20.618Z"
   },
   {
    "duration": 7,
    "start_time": "2025-02-19T23:20:21.299Z"
   },
   {
    "duration": 124,
    "start_time": "2025-02-19T23:20:21.505Z"
   },
   {
    "duration": 289,
    "start_time": "2025-02-19T23:20:22.089Z"
   },
   {
    "duration": 5,
    "start_time": "2025-02-19T23:20:23.308Z"
   },
   {
    "duration": 154,
    "start_time": "2025-02-19T23:20:23.729Z"
   },
   {
    "duration": 87,
    "start_time": "2025-02-19T23:20:24.131Z"
   },
   {
    "duration": 9,
    "start_time": "2025-02-19T23:20:24.552Z"
   },
   {
    "duration": 6,
    "start_time": "2025-02-19T23:20:24.732Z"
   },
   {
    "duration": 6,
    "start_time": "2025-02-19T23:20:24.912Z"
   },
   {
    "duration": 7,
    "start_time": "2025-02-19T23:20:25.334Z"
   },
   {
    "duration": 151,
    "start_time": "2025-02-19T23:20:25.541Z"
   },
   {
    "duration": 163,
    "start_time": "2025-02-19T23:20:26.351Z"
   },
   {
    "duration": 7,
    "start_time": "2025-02-19T23:20:27.144Z"
   },
   {
    "duration": 6,
    "start_time": "2025-02-19T23:20:27.332Z"
   },
   {
    "duration": 252,
    "start_time": "2025-02-19T23:20:27.519Z"
   },
   {
    "duration": 3,
    "start_time": "2025-02-19T23:20:28.298Z"
   },
   {
    "duration": 6,
    "start_time": "2025-02-19T23:20:28.499Z"
   },
   {
    "duration": 5,
    "start_time": "2025-02-19T23:20:28.895Z"
   },
   {
    "duration": 175,
    "start_time": "2025-02-19T23:20:29.108Z"
   },
   {
    "duration": 139,
    "start_time": "2025-02-19T23:20:29.938Z"
   },
   {
    "duration": 8,
    "start_time": "2025-02-19T23:20:30.156Z"
   },
   {
    "duration": 123,
    "start_time": "2025-02-19T23:20:30.348Z"
   },
   {
    "duration": 3,
    "start_time": "2025-02-19T23:20:31.355Z"
   },
   {
    "duration": 8,
    "start_time": "2025-02-19T23:20:32.280Z"
   },
   {
    "duration": 148,
    "start_time": "2025-02-19T23:20:32.540Z"
   },
   {
    "duration": 4,
    "start_time": "2025-02-19T23:20:33.486Z"
   },
   {
    "duration": 135,
    "start_time": "2025-02-19T23:20:34.340Z"
   },
   {
    "duration": 8,
    "start_time": "2025-02-19T23:20:34.580Z"
   },
   {
    "duration": 8,
    "start_time": "2025-02-19T23:20:35.450Z"
   },
   {
    "duration": 6,
    "start_time": "2025-02-19T23:20:36.018Z"
   },
   {
    "duration": 19,
    "start_time": "2025-02-19T23:20:36.375Z"
   },
   {
    "duration": 13,
    "start_time": "2025-02-19T23:20:37.286Z"
   },
   {
    "duration": 95,
    "start_time": "2025-02-19T23:20:38.160Z"
   },
   {
    "duration": 9,
    "start_time": "2025-02-19T23:21:06.346Z"
   },
   {
    "duration": 7,
    "start_time": "2025-02-19T23:21:14.012Z"
   },
   {
    "duration": 6,
    "start_time": "2025-02-19T23:24:10.145Z"
   },
   {
    "duration": 8,
    "start_time": "2025-02-19T23:24:20.477Z"
   },
   {
    "duration": 12,
    "start_time": "2025-02-19T23:24:45.090Z"
   },
   {
    "duration": 17,
    "start_time": "2025-02-19T23:26:07.337Z"
   },
   {
    "duration": 4,
    "start_time": "2025-02-19T23:26:41.371Z"
   },
   {
    "duration": 6,
    "start_time": "2025-02-19T23:26:47.476Z"
   },
   {
    "duration": 6,
    "start_time": "2025-02-19T23:27:36.098Z"
   },
   {
    "duration": 11,
    "start_time": "2025-02-19T23:28:33.869Z"
   },
   {
    "duration": 9,
    "start_time": "2025-02-19T23:28:41.258Z"
   },
   {
    "duration": 8,
    "start_time": "2025-02-19T23:29:07.576Z"
   },
   {
    "duration": 5,
    "start_time": "2025-02-19T23:29:38.090Z"
   },
   {
    "duration": 86,
    "start_time": "2025-02-19T23:30:39.293Z"
   },
   {
    "duration": 22,
    "start_time": "2025-02-19T23:31:02.248Z"
   },
   {
    "duration": 65,
    "start_time": "2025-02-19T23:31:11.270Z"
   },
   {
    "duration": 7,
    "start_time": "2025-02-19T23:34:17.360Z"
   },
   {
    "duration": 9,
    "start_time": "2025-02-19T23:35:16.130Z"
   },
   {
    "duration": 16,
    "start_time": "2025-02-19T23:35:44.649Z"
   },
   {
    "duration": 9,
    "start_time": "2025-02-19T23:37:14.543Z"
   },
   {
    "duration": 10,
    "start_time": "2025-02-19T23:37:37.563Z"
   },
   {
    "duration": 6,
    "start_time": "2025-02-19T23:38:13.055Z"
   },
   {
    "duration": 5,
    "start_time": "2025-02-19T23:38:29.367Z"
   },
   {
    "duration": 23,
    "start_time": "2025-02-19T23:38:33.436Z"
   },
   {
    "duration": 17,
    "start_time": "2025-02-19T23:38:58.246Z"
   },
   {
    "duration": 9,
    "start_time": "2025-02-19T23:39:20.245Z"
   },
   {
    "duration": 7,
    "start_time": "2025-02-19T23:43:55.475Z"
   },
   {
    "duration": 157,
    "start_time": "2025-02-19T23:43:55.636Z"
   },
   {
    "duration": 4,
    "start_time": "2025-02-19T23:43:56.348Z"
   },
   {
    "duration": 146,
    "start_time": "2025-02-19T23:43:57.467Z"
   },
   {
    "duration": 5,
    "start_time": "2025-02-19T23:43:58.270Z"
   },
   {
    "duration": 5,
    "start_time": "2025-02-19T23:43:58.645Z"
   },
   {
    "duration": 24,
    "start_time": "2025-02-19T23:43:58.987Z"
   },
   {
    "duration": 10,
    "start_time": "2025-02-19T23:44:01.461Z"
   },
   {
    "duration": 5,
    "start_time": "2025-02-19T23:44:03.670Z"
   },
   {
    "duration": 8,
    "start_time": "2025-02-19T23:44:14.183Z"
   },
   {
    "duration": 11,
    "start_time": "2025-02-19T23:59:32.787Z"
   },
   {
    "duration": 6,
    "start_time": "2025-02-20T00:07:46.268Z"
   },
   {
    "duration": 47,
    "start_time": "2025-02-20T00:08:35.628Z"
   },
   {
    "duration": 6,
    "start_time": "2025-02-20T00:08:49.012Z"
   },
   {
    "duration": 6,
    "start_time": "2025-02-20T00:09:29.493Z"
   },
   {
    "duration": 24,
    "start_time": "2025-02-20T00:10:50.913Z"
   },
   {
    "duration": 16,
    "start_time": "2025-02-20T00:18:30.696Z"
   },
   {
    "duration": 11,
    "start_time": "2025-02-20T00:31:28.621Z"
   },
   {
    "duration": 1020,
    "start_time": "2025-02-20T00:38:19.135Z"
   },
   {
    "duration": 13,
    "start_time": "2025-02-20T00:38:20.157Z"
   },
   {
    "duration": 11,
    "start_time": "2025-02-20T00:38:20.340Z"
   },
   {
    "duration": 5,
    "start_time": "2025-02-20T00:38:20.553Z"
   },
   {
    "duration": 9,
    "start_time": "2025-02-20T00:38:21.158Z"
   },
   {
    "duration": 6,
    "start_time": "2025-02-20T00:38:21.361Z"
   },
   {
    "duration": 15,
    "start_time": "2025-02-20T00:38:21.558Z"
   },
   {
    "duration": 13,
    "start_time": "2025-02-20T00:38:21.750Z"
   },
   {
    "duration": 12,
    "start_time": "2025-02-20T00:38:21.960Z"
   },
   {
    "duration": 9,
    "start_time": "2025-02-20T00:38:22.557Z"
   },
   {
    "duration": 5,
    "start_time": "2025-02-20T00:38:22.754Z"
   },
   {
    "duration": 9,
    "start_time": "2025-02-20T00:38:22.964Z"
   },
   {
    "duration": 10,
    "start_time": "2025-02-20T00:38:23.750Z"
   },
   {
    "duration": 11,
    "start_time": "2025-02-20T00:38:23.943Z"
   },
   {
    "duration": 175,
    "start_time": "2025-02-20T00:38:24.142Z"
   },
   {
    "duration": 6,
    "start_time": "2025-02-20T00:38:24.700Z"
   },
   {
    "duration": 164,
    "start_time": "2025-02-20T00:38:24.890Z"
   },
   {
    "duration": 217,
    "start_time": "2025-02-20T00:38:25.478Z"
   },
   {
    "duration": 6,
    "start_time": "2025-02-20T00:38:26.664Z"
   },
   {
    "duration": 178,
    "start_time": "2025-02-20T00:38:27.088Z"
   },
   {
    "duration": 128,
    "start_time": "2025-02-20T00:38:27.924Z"
   },
   {
    "duration": 6,
    "start_time": "2025-02-20T00:38:28.566Z"
   },
   {
    "duration": 5,
    "start_time": "2025-02-20T00:38:28.793Z"
   },
   {
    "duration": 6,
    "start_time": "2025-02-20T00:38:29.033Z"
   },
   {
    "duration": 7,
    "start_time": "2025-02-20T00:38:29.466Z"
   },
   {
    "duration": 186,
    "start_time": "2025-02-20T00:38:29.663Z"
   },
   {
    "duration": 194,
    "start_time": "2025-02-20T00:38:30.528Z"
   },
   {
    "duration": 6,
    "start_time": "2025-02-20T00:38:31.400Z"
   },
   {
    "duration": 7,
    "start_time": "2025-02-20T00:38:31.575Z"
   },
   {
    "duration": 274,
    "start_time": "2025-02-20T00:38:31.786Z"
   },
   {
    "duration": 4,
    "start_time": "2025-02-20T00:38:32.519Z"
   },
   {
    "duration": 6,
    "start_time": "2025-02-20T00:38:32.704Z"
   },
   {
    "duration": 6,
    "start_time": "2025-02-20T00:38:33.100Z"
   },
   {
    "duration": 157,
    "start_time": "2025-02-20T00:38:33.254Z"
   },
   {
    "duration": 185,
    "start_time": "2025-02-20T00:38:34.010Z"
   },
   {
    "duration": 11,
    "start_time": "2025-02-20T00:38:34.213Z"
   },
   {
    "duration": 147,
    "start_time": "2025-02-20T00:38:34.384Z"
   },
   {
    "duration": 4,
    "start_time": "2025-02-20T00:38:35.535Z"
   },
   {
    "duration": 8,
    "start_time": "2025-02-20T00:38:36.903Z"
   },
   {
    "duration": 179,
    "start_time": "2025-02-20T00:38:37.108Z"
   },
   {
    "duration": 4,
    "start_time": "2025-02-20T00:38:37.890Z"
   },
   {
    "duration": 175,
    "start_time": "2025-02-20T00:38:38.636Z"
   },
   {
    "duration": 7,
    "start_time": "2025-02-20T00:38:39.210Z"
   },
   {
    "duration": 6,
    "start_time": "2025-02-20T00:38:39.392Z"
   },
   {
    "duration": 25,
    "start_time": "2025-02-20T00:38:39.588Z"
   },
   {
    "duration": 9,
    "start_time": "2025-02-20T00:38:40.387Z"
   },
   {
    "duration": 13,
    "start_time": "2025-02-20T00:38:41.289Z"
   },
   {
    "duration": 6,
    "start_time": "2025-02-20T00:38:41.668Z"
   },
   {
    "duration": 6,
    "start_time": "2025-02-20T00:38:43.948Z"
   },
   {
    "duration": 24,
    "start_time": "2025-02-20T00:38:44.141Z"
   },
   {
    "duration": 16,
    "start_time": "2025-02-20T00:38:44.957Z"
   },
   {
    "duration": 6,
    "start_time": "2025-02-20T06:00:41.453Z"
   }
  ],
  "kernelspec": {
   "display_name": "Python 3 (ipykernel)",
   "language": "python",
   "name": "python3"
  },
  "language_info": {
   "codemirror_mode": {
    "name": "ipython",
    "version": 3
   },
   "file_extension": ".py",
   "mimetype": "text/x-python",
   "name": "python",
   "nbconvert_exporter": "python",
   "pygments_lexer": "ipython3",
   "version": "3.9.19"
  },
  "toc": {
   "base_numbering": 1,
   "nav_menu": {},
   "number_sections": true,
   "sideBar": true,
   "skip_h1_title": true,
   "title_cell": "Table of Contents",
   "title_sidebar": "Contents",
   "toc_cell": false,
   "toc_position": {},
   "toc_section_display": true,
   "toc_window_display": false
  }
 },
 "nbformat": 4,
 "nbformat_minor": 2
}
